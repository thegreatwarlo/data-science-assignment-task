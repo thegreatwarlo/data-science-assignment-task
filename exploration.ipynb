{
 "cells": [
  {
   "cell_type": "code",
   "execution_count": 20,
   "metadata": {},
   "outputs": [],
   "source": [
    "import pandas as pd\n",
    "import numpy as np\n",
    "from sklearn.feature_extraction.text import TfidfVectorizer\n",
    "from sklearn.neighbors import KNeighborsClassifier\n",
    "from sklearn.metrics import accuracy_score, confusion_matrix, f1_score\n",
    "from sklearn.model_selection import GridSearchCV\n",
    "from sklearn.preprocessing import OneHotEncoder, LabelEncoder\n",
    "from scipy.sparse import hstack\n",
    "import xgboost\n",
    "import matplotlib.pyplot as pyplot"
   ]
  },
  {
   "cell_type": "code",
   "execution_count": 2,
   "metadata": {},
   "outputs": [],
   "source": [
    "dt = pd.read_csv('data_redacted.tsv', sep='\\t')"
   ]
  },
  {
   "cell_type": "code",
   "execution_count": 4,
   "metadata": {},
   "outputs": [
    {
     "data": {
      "text/html": [
       "<div>\n",
       "<style scoped>\n",
       "    .dataframe tbody tr th:only-of-type {\n",
       "        vertical-align: middle;\n",
       "    }\n",
       "\n",
       "    .dataframe tbody tr th {\n",
       "        vertical-align: top;\n",
       "    }\n",
       "\n",
       "    .dataframe thead th {\n",
       "        text-align: right;\n",
       "    }\n",
       "</style>\n",
       "<table border=\"1\" class=\"dataframe\">\n",
       "  <thead>\n",
       "    <tr style=\"text-align: right;\">\n",
       "      <th></th>\n",
       "      <th>title</th>\n",
       "      <th>text</th>\n",
       "      <th>url</th>\n",
       "      <th>category</th>\n",
       "    </tr>\n",
       "  </thead>\n",
       "  <tbody>\n",
       "    <tr>\n",
       "      <th>0</th>\n",
       "      <td>Don\"t Mourn the Y Chromosome</td>\n",
       "      <td>The human Y chromosome may vanish one day, but...</td>\n",
       "      <td>http://discovermagazine.com/2014/nov/13-y-not</td>\n",
       "      <td>technology_science</td>\n",
       "    </tr>\n",
       "    <tr>\n",
       "      <th>1</th>\n",
       "      <td>Destiny: Bungie to introduce ammo pack micro-t...</td>\n",
       "      <td>Bungie is putting together plans to start sell...</td>\n",
       "      <td>http://www.ibtimes.co.uk/destiny-bungie-introd...</td>\n",
       "      <td>digital_life</td>\n",
       "    </tr>\n",
       "    <tr>\n",
       "      <th>2</th>\n",
       "      <td>Daruvala to race for Josef Kaufmann Racing in ...</td>\n",
       "      <td>Highly rated Jehan Daruvala will race for Jose...</td>\n",
       "      <td>http://www.thecheckeredflag.co.uk/2015/12/daru...</td>\n",
       "      <td>sports</td>\n",
       "    </tr>\n",
       "    <tr>\n",
       "      <th>3</th>\n",
       "      <td>Secondary tropical forests absorb carbon at hi...</td>\n",
       "      <td>Forests are an important carbon sink. While mo...</td>\n",
       "      <td>http://www.sciencedaily.com/releases/2016/02/1...</td>\n",
       "      <td>technology_science</td>\n",
       "    </tr>\n",
       "    <tr>\n",
       "      <th>4</th>\n",
       "      <td>This Brow Hack Will Change the Way You Fill In...</td>\n",
       "      <td>Before everyone was trying to get eyebrows on ...</td>\n",
       "      <td>http://www.popsugar.com/beauty/How-Use-Brow-Ge...</td>\n",
       "      <td>fashion_beauty_lifestyle</td>\n",
       "    </tr>\n",
       "  </tbody>\n",
       "</table>\n",
       "</div>"
      ],
      "text/plain": [
       "                                               title  \\\n",
       "0                       Don\"t Mourn the Y Chromosome   \n",
       "1  Destiny: Bungie to introduce ammo pack micro-t...   \n",
       "2  Daruvala to race for Josef Kaufmann Racing in ...   \n",
       "3  Secondary tropical forests absorb carbon at hi...   \n",
       "4  This Brow Hack Will Change the Way You Fill In...   \n",
       "\n",
       "                                                text  \\\n",
       "0  The human Y chromosome may vanish one day, but...   \n",
       "1  Bungie is putting together plans to start sell...   \n",
       "2  Highly rated Jehan Daruvala will race for Jose...   \n",
       "3  Forests are an important carbon sink. While mo...   \n",
       "4  Before everyone was trying to get eyebrows on ...   \n",
       "\n",
       "                                                 url                  category  \n",
       "0      http://discovermagazine.com/2014/nov/13-y-not        technology_science  \n",
       "1  http://www.ibtimes.co.uk/destiny-bungie-introd...              digital_life  \n",
       "2  http://www.thecheckeredflag.co.uk/2015/12/daru...                    sports  \n",
       "3  http://www.sciencedaily.com/releases/2016/02/1...        technology_science  \n",
       "4  http://www.popsugar.com/beauty/How-Use-Brow-Ge...  fashion_beauty_lifestyle  "
      ]
     },
     "execution_count": 4,
     "metadata": {},
     "output_type": "execute_result"
    }
   ],
   "source": [
    "dt.head()"
   ]
  },
  {
   "cell_type": "code",
   "execution_count": 5,
   "metadata": {},
   "outputs": [
    {
     "data": {
      "text/plain": [
       "8646"
      ]
     },
     "execution_count": 5,
     "metadata": {},
     "output_type": "execute_result"
    }
   ],
   "source": [
    "len(dt.index)"
   ]
  },
  {
   "cell_type": "markdown",
   "metadata": {},
   "source": [
    "## Data Preparation"
   ]
  },
  {
   "cell_type": "markdown",
   "metadata": {},
   "source": [
    "### Extracting the website from the URL"
   ]
  },
  {
   "cell_type": "markdown",
   "metadata": {},
   "source": [
    "I am assuming the format of the URL is fairly standard for most entries"
   ]
  },
  {
   "cell_type": "code",
   "execution_count": 7,
   "metadata": {},
   "outputs": [],
   "source": [
    "dt['website'] = [url.split('/')[2] if len(url.split('/'))>2 else None for url in dt['url']]"
   ]
  },
  {
   "cell_type": "markdown",
   "metadata": {},
   "source": [
    "Let's see how successful the process was"
   ]
  },
  {
   "cell_type": "code",
   "execution_count": 7,
   "metadata": {},
   "outputs": [
    {
     "data": {
      "text/html": [
       "<div>\n",
       "<style scoped>\n",
       "    .dataframe tbody tr th:only-of-type {\n",
       "        vertical-align: middle;\n",
       "    }\n",
       "\n",
       "    .dataframe tbody tr th {\n",
       "        vertical-align: top;\n",
       "    }\n",
       "\n",
       "    .dataframe thead th {\n",
       "        text-align: right;\n",
       "    }\n",
       "</style>\n",
       "<table border=\"1\" class=\"dataframe\">\n",
       "  <thead>\n",
       "    <tr style=\"text-align: right;\">\n",
       "      <th></th>\n",
       "      <th>title</th>\n",
       "      <th>text</th>\n",
       "      <th>url</th>\n",
       "      <th>category</th>\n",
       "      <th>website</th>\n",
       "    </tr>\n",
       "  </thead>\n",
       "  <tbody>\n",
       "    <tr>\n",
       "      <th>30</th>\n",
       "      <td>Horoscopes: Catherine Tennant looks at the wee...</td>\n",
       "      <td>Aries - March 21-April 21 The annual new moon ...</td>\n",
       "      <td>Horoscopes: Catherine Tennant looks at the wee...</td>\n",
       "      <td>fashion_beauty_lifestyle</td>\n",
       "      <td>None</td>\n",
       "    </tr>\n",
       "    <tr>\n",
       "      <th>2039</th>\n",
       "      <td>Revisiting the 80s from Latin funjk to smooth ...</td>\n",
       "      <td>Any new music from Los Charly\"s Orchestra caus...</td>\n",
       "      <td>Rediscovering The Big Apple</td>\n",
       "      <td>music</td>\n",
       "      <td>None</td>\n",
       "    </tr>\n",
       "    <tr>\n",
       "      <th>3618</th>\n",
       "      <td>​When actors such as Daniel Craig face endless...</td>\n",
       "      <td>“James Bond is a notorious ladies’ man. What p...</td>\n",
       "      <td>Daniel Craig doesn't care about publicity, sil...</td>\n",
       "      <td>people_shows</td>\n",
       "      <td>None</td>\n",
       "    </tr>\n",
       "    <tr>\n",
       "      <th>3752</th>\n",
       "      <td>In the late 1960s a UN agency said tourism pro...</td>\n",
       "      <td>A team of experts from the United Nations Deve...</td>\n",
       "      <td>The history of tourism in the Maldives</td>\n",
       "      <td>travel</td>\n",
       "      <td>None</td>\n",
       "    </tr>\n",
       "    <tr>\n",
       "      <th>3998</th>\n",
       "      <td>Botswana is the stomping ground of safari guid...</td>\n",
       "      <td>Flying in a tiny Cessna over the Makgadikgadi ...</td>\n",
       "      <td>Botswana safari guide: Ralph Bousfield explore...</td>\n",
       "      <td>travel</td>\n",
       "      <td>None</td>\n",
       "    </tr>\n",
       "    <tr>\n",
       "      <th>4712</th>\n",
       "      <td>It was acceptable in the 80s. And if you’re Th...</td>\n",
       "      <td>David Hasselhoff has unveiled the music video ...</td>\n",
       "      <td>The Hoff channels 80s cheese in new music video</td>\n",
       "      <td>music</td>\n",
       "      <td>None</td>\n",
       "    </tr>\n",
       "    <tr>\n",
       "      <th>5772</th>\n",
       "      <td>This Christmas many of us will be planning to ...</td>\n",
       "      <td>Hosting a family Christmas should be about kee...</td>\n",
       "      <td>Planning a Stress Free Christmas Family Get To...</td>\n",
       "      <td>fashion_beauty_lifestyle</td>\n",
       "      <td>None</td>\n",
       "    </tr>\n",
       "    <tr>\n",
       "      <th>6860</th>\n",
       "      <td>Last year was all about the following: kale, t...</td>\n",
       "      <td>That\"s right, with the new year marking a chan...</td>\n",
       "      <td>The Top 3 Skincare Ingredients To Know For 2015</td>\n",
       "      <td>fashion_beauty_lifestyle</td>\n",
       "      <td>None</td>\n",
       "    </tr>\n",
       "  </tbody>\n",
       "</table>\n",
       "</div>"
      ],
      "text/plain": [
       "                                                  title  \\\n",
       "30    Horoscopes: Catherine Tennant looks at the wee...   \n",
       "2039  Revisiting the 80s from Latin funjk to smooth ...   \n",
       "3618  ​When actors such as Daniel Craig face endless...   \n",
       "3752  In the late 1960s a UN agency said tourism pro...   \n",
       "3998  Botswana is the stomping ground of safari guid...   \n",
       "4712  It was acceptable in the 80s. And if you’re Th...   \n",
       "5772  This Christmas many of us will be planning to ...   \n",
       "6860  Last year was all about the following: kale, t...   \n",
       "\n",
       "                                                   text  \\\n",
       "30    Aries - March 21-April 21 The annual new moon ...   \n",
       "2039  Any new music from Los Charly\"s Orchestra caus...   \n",
       "3618  “James Bond is a notorious ladies’ man. What p...   \n",
       "3752  A team of experts from the United Nations Deve...   \n",
       "3998  Flying in a tiny Cessna over the Makgadikgadi ...   \n",
       "4712  David Hasselhoff has unveiled the music video ...   \n",
       "5772  Hosting a family Christmas should be about kee...   \n",
       "6860  That\"s right, with the new year marking a chan...   \n",
       "\n",
       "                                                    url  \\\n",
       "30    Horoscopes: Catherine Tennant looks at the wee...   \n",
       "2039                        Rediscovering The Big Apple   \n",
       "3618  Daniel Craig doesn't care about publicity, sil...   \n",
       "3752             The history of tourism in the Maldives   \n",
       "3998  Botswana safari guide: Ralph Bousfield explore...   \n",
       "4712    The Hoff channels 80s cheese in new music video   \n",
       "5772  Planning a Stress Free Christmas Family Get To...   \n",
       "6860    The Top 3 Skincare Ingredients To Know For 2015   \n",
       "\n",
       "                      category website  \n",
       "30    fashion_beauty_lifestyle    None  \n",
       "2039                     music    None  \n",
       "3618              people_shows    None  \n",
       "3752                    travel    None  \n",
       "3998                    travel    None  \n",
       "4712                     music    None  \n",
       "5772  fashion_beauty_lifestyle    None  \n",
       "6860  fashion_beauty_lifestyle    None  "
      ]
     },
     "execution_count": 7,
     "metadata": {},
     "output_type": "execute_result"
    }
   ],
   "source": [
    "dt.loc[pd.isnull(dt['website'])]"
   ]
  },
  {
   "cell_type": "markdown",
   "metadata": {},
   "source": [
    "It looks like a handful or entries doesn't have the url field populated correctly"
   ]
  },
  {
   "cell_type": "markdown",
   "metadata": {},
   "source": [
    "Only a small number of entries do not have a valid URL, so I could not extract the website from them"
   ]
  },
  {
   "cell_type": "markdown",
   "metadata": {},
   "source": [
    "### Train-Validation split"
   ]
  },
  {
   "cell_type": "markdown",
   "metadata": {},
   "source": [
    "Split the data into 2 samples, one for training and one for validation."
   ]
  },
  {
   "cell_type": "code",
   "execution_count": 8,
   "metadata": {},
   "outputs": [],
   "source": [
    "msk = np.random.rand(len(dt)) < 0.8\n",
    "train = dt[msk]\n",
    "val = dt[~msk]"
   ]
  },
  {
   "cell_type": "markdown",
   "metadata": {},
   "source": [
    "# Model Experimentation"
   ]
  },
  {
   "cell_type": "markdown",
   "metadata": {},
   "source": [
    "I will experiment with the following 3 approaches, in increasing order of complexity"
   ]
  },
  {
   "cell_type": "markdown",
   "metadata": {},
   "source": [
    "1. Naive Bayes approach: extract website from URL. Predict the most common category for each website \n",
    "2. Nearest Neighbor classifier using the TF-IDF representation of the articles' text\n",
    "3. Gradient Boosted Trees using TF-IDF representation and website vector."
   ]
  },
  {
   "cell_type": "markdown",
   "metadata": {},
   "source": [
    "## Model comparison"
   ]
  },
  {
   "cell_type": "code",
   "execution_count": 5,
   "metadata": {},
   "outputs": [
    {
     "data": {
      "text/plain": [
       "fashion_beauty_lifestyle    1101\n",
       "sports                       938\n",
       "technology_science           841\n",
       "digital_life                 597\n",
       "money_business               575\n",
       "news                         516\n",
       "music                        459\n",
       "travel                       437\n",
       "culture                      429\n",
       "cars_motors                  376\n",
       "politics                     349\n",
       "people_shows                 291\n",
       "Name: category, dtype: int64"
      ]
     },
     "execution_count": 5,
     "metadata": {},
     "output_type": "execute_result"
    }
   ],
   "source": [
    "cat = train['category'].value_counts()\n",
    "cat"
   ]
  },
  {
   "cell_type": "markdown",
   "metadata": {},
   "source": [
    "Given the nature of the task - predicting the correct category for each article - it seems reasonable to use the multiclass classification metric as the error metric to compare different models. the definition of multiclass error rate that I am using is #(wrong cases)/#(all cases). \n",
    "\n",
    "This is by no means the perfect metric and in a real-life situation models should be evaluated on a variety of metrics. For instance, the multiclass error rate weights equally a case where the model mistakenly predicts a category that is similar to the correct one - such as \"music\" and \"culture\" - and a case where the predicted category is very diffeerent from the correct one - such as \"cars_motors\" and \"music\". In this situation, a metric that takes into account the proximity of the options such as AUC - used for option ranking tasks - could also be beneficial. \n",
    "\n",
    "In addition, given the imbalanced sample distibution between categories, we might want to use macro average of the F1 score, which evaluates classifier performance over the individual classes. The assumption there is that we care about our ability to classify each category equally, but is that fair? What if most of the readers enjoy articles most popular category, and hence we care more about perfoming well in \"fashion_beauty_lifestyle\" than \"people_show\"? Since we cannot answer this question without learning about the business and product requirements, a good compromise for the sake of this exercise could be using the weighted f1 score, which takes into account the performance for each label but weight that performance by the size of the class."
   ]
  },
  {
   "cell_type": "markdown",
   "metadata": {},
   "source": [
    "## Naive Bayes"
   ]
  },
  {
   "cell_type": "markdown",
   "metadata": {},
   "source": [
    "In this case, my predictor will just be a dictionary with the most popular category for each website"
   ]
  },
  {
   "cell_type": "markdown",
   "metadata": {},
   "source": [
    "First, let's get the number of articles by category for each website"
   ]
  },
  {
   "cell_type": "code",
   "execution_count": 17,
   "metadata": {},
   "outputs": [],
   "source": [
    "web_cat = pd.DataFrame(train.groupby(['website', 'category']).size())\n",
    "web_cat = web_cat.rename(columns={0:'n'})"
   ]
  },
  {
   "cell_type": "markdown",
   "metadata": {},
   "source": [
    "Here's what the category count looks like for _The Guardian_"
   ]
  },
  {
   "cell_type": "code",
   "execution_count": 145,
   "metadata": {},
   "outputs": [
    {
     "data": {
      "text/html": [
       "<div>\n",
       "<style scoped>\n",
       "    .dataframe tbody tr th:only-of-type {\n",
       "        vertical-align: middle;\n",
       "    }\n",
       "\n",
       "    .dataframe tbody tr th {\n",
       "        vertical-align: top;\n",
       "    }\n",
       "\n",
       "    .dataframe thead th {\n",
       "        text-align: right;\n",
       "    }\n",
       "</style>\n",
       "<table border=\"1\" class=\"dataframe\">\n",
       "  <thead>\n",
       "    <tr style=\"text-align: right;\">\n",
       "      <th></th>\n",
       "      <th>n</th>\n",
       "    </tr>\n",
       "    <tr>\n",
       "      <th>category</th>\n",
       "      <th></th>\n",
       "    </tr>\n",
       "  </thead>\n",
       "  <tbody>\n",
       "    <tr>\n",
       "      <th>cars_motors</th>\n",
       "      <td>15</td>\n",
       "    </tr>\n",
       "    <tr>\n",
       "      <th>culture</th>\n",
       "      <td>97</td>\n",
       "    </tr>\n",
       "    <tr>\n",
       "      <th>digital_life</th>\n",
       "      <td>27</td>\n",
       "    </tr>\n",
       "    <tr>\n",
       "      <th>fashion_beauty_lifestyle</th>\n",
       "      <td>134</td>\n",
       "    </tr>\n",
       "    <tr>\n",
       "      <th>money_business</th>\n",
       "      <td>44</td>\n",
       "    </tr>\n",
       "    <tr>\n",
       "      <th>music</th>\n",
       "      <td>53</td>\n",
       "    </tr>\n",
       "    <tr>\n",
       "      <th>news</th>\n",
       "      <td>67</td>\n",
       "    </tr>\n",
       "    <tr>\n",
       "      <th>people_shows</th>\n",
       "      <td>16</td>\n",
       "    </tr>\n",
       "    <tr>\n",
       "      <th>politics</th>\n",
       "      <td>52</td>\n",
       "    </tr>\n",
       "    <tr>\n",
       "      <th>sports</th>\n",
       "      <td>58</td>\n",
       "    </tr>\n",
       "    <tr>\n",
       "      <th>technology_science</th>\n",
       "      <td>60</td>\n",
       "    </tr>\n",
       "    <tr>\n",
       "      <th>travel</th>\n",
       "      <td>98</td>\n",
       "    </tr>\n",
       "  </tbody>\n",
       "</table>\n",
       "</div>"
      ],
      "text/plain": [
       "                            n\n",
       "category                     \n",
       "cars_motors                15\n",
       "culture                    97\n",
       "digital_life               27\n",
       "fashion_beauty_lifestyle  134\n",
       "money_business             44\n",
       "music                      53\n",
       "news                       67\n",
       "people_shows               16\n",
       "politics                   52\n",
       "sports                     58\n",
       "technology_science         60\n",
       "travel                     98"
      ]
     },
     "execution_count": 145,
     "metadata": {},
     "output_type": "execute_result"
    }
   ],
   "source": [
    "web_cat.loc['www.theguardian.com']"
   ]
  },
  {
   "cell_type": "markdown",
   "metadata": {},
   "source": [
    "Find the most common category for each website"
   ]
  },
  {
   "cell_type": "code",
   "execution_count": 10,
   "metadata": {},
   "outputs": [],
   "source": [
    "web_main_cat = web_cat.groupby(level='website').idxmax()"
   ]
  },
  {
   "cell_type": "markdown",
   "metadata": {},
   "source": [
    "Sanity check"
   ]
  },
  {
   "cell_type": "code",
   "execution_count": 13,
   "metadata": {},
   "outputs": [
    {
     "data": {
      "text/plain": [
       "'fashion_beauty_lifestyle'"
      ]
     },
     "execution_count": 13,
     "metadata": {},
     "output_type": "execute_result"
    }
   ],
   "source": [
    "web_main_cat.loc['www.theguardian.com']['n'][1]"
   ]
  },
  {
   "cell_type": "code",
   "execution_count": 11,
   "metadata": {},
   "outputs": [],
   "source": [
    "#return the most common category for each website. If no website found, just return the most common category\n",
    "def get_most_common_category(website):\n",
    "    if website in web_main_cat.index:\n",
    "        return web_main_cat.loc[website]['n'][1]\n",
    "    return cat.head(1).index[0]"
   ]
  },
  {
   "cell_type": "markdown",
   "metadata": {},
   "source": [
    "Let's test out the function"
   ]
  },
  {
   "cell_type": "code",
   "execution_count": 12,
   "metadata": {},
   "outputs": [
    {
     "data": {
      "text/plain": [
       "'technology_science'"
      ]
     },
     "execution_count": 12,
     "metadata": {},
     "output_type": "execute_result"
    }
   ],
   "source": [
    "get_most_common_category('phys.org')"
   ]
  },
  {
   "cell_type": "markdown",
   "metadata": {},
   "source": [
    "Simply check how many times the category of each article in the validation set matches the most popular category for the website"
   ]
  },
  {
   "cell_type": "code",
   "execution_count": 13,
   "metadata": {},
   "outputs": [],
   "source": [
    "naive_score = [1 if get_most_common_category(web) == cat else 0 for web, cat in zip(val['website'], val['category'])]"
   ]
  },
  {
   "cell_type": "markdown",
   "metadata": {},
   "source": [
    "### Naive Bayes: evaluation"
   ]
  },
  {
   "cell_type": "markdown",
   "metadata": {},
   "source": [
    "Accuracy:"
   ]
  },
  {
   "cell_type": "code",
   "execution_count": 14,
   "metadata": {},
   "outputs": [
    {
     "data": {
      "text/plain": [
       "0.5268496420047732"
      ]
     },
     "execution_count": 14,
     "metadata": {},
     "output_type": "execute_result"
    }
   ],
   "source": [
    "sum(naive_score)/len(naive_score)"
   ]
  },
  {
   "cell_type": "markdown",
   "metadata": {},
   "source": [
    "The naive approach, which returns the most popular category for each website achieves over 50% accuracy"
   ]
  },
  {
   "cell_type": "code",
   "execution_count": 42,
   "metadata": {},
   "outputs": [
    {
     "data": {
      "text/plain": [
       "array([[ 59,   0,   1,  11,   2,   0,   4,   0,   0,   3,   0,   2],\n",
       "       [  0,  41,   1,  32,   0,   0,  10,   3,   0,   4,   0,   9],\n",
       "       [  1,   6,  72,  36,   5,   0,  11,   2,   0,   3,   4,   2],\n",
       "       [  0,   0,   3, 231,   3,   2,   6,   3,   2,  11,   1,   9],\n",
       "       [  1,   3,   7,  40,  78,   0,  13,   0,   1,  11,   1,  13],\n",
       "       [  0,   0,   0,  27,   0,  56,   5,   2,   0,   5,   1,   3],\n",
       "       [  0,   0,   3,  35,  12,   0,  39,   1,   1,  29,   0,  10],\n",
       "       [  0,   2,   2,  20,   3,   3,   8,  24,   1,   6,   0,   2],\n",
       "       [  0,   1,   2,  45,   8,   2,  16,   0,   6,   7,   0,   8],\n",
       "       [  0,   0,   0,  50,   2,   0,  29,   0,   1, 119,   0,   4],\n",
       "       [  0,   0,   1,  39,   2,   3,  15,   0,   1,  11, 131,   2],\n",
       "       [  0,   0,   2,  61,   2,   0,   7,   2,   0,   6,   1,  27]])"
      ]
     },
     "execution_count": 42,
     "metadata": {},
     "output_type": "execute_result"
    }
   ],
   "source": [
    "y_pred = [get_most_common_category(web) for web in val['website']]\n",
    "y_true = [cat for cat in val['category']]\n",
    "confusion_matrix(y_true, y_pred)"
   ]
  },
  {
   "cell_type": "markdown",
   "metadata": {},
   "source": [
    "In a lot of mislabelled cases, the most popular category gets predicted instead of the actual one. This is probably partially due to the fact that it is the default option for website that are not in the training sample (or entries without a correctly parsed website)"
   ]
  },
  {
   "cell_type": "code",
   "execution_count": 21,
   "metadata": {},
   "outputs": [
    {
     "data": {
      "text/plain": [
       "0.5279294581902667"
      ]
     },
     "execution_count": 21,
     "metadata": {},
     "output_type": "execute_result"
    }
   ],
   "source": [
    "f1_score(y_true, y_pred, average='weighted')"
   ]
  },
  {
   "cell_type": "markdown",
   "metadata": {},
   "source": [
    "## K-Nearest Neighbor Classifier"
   ]
  },
  {
   "cell_type": "markdown",
   "metadata": {},
   "source": [
    "This approach classifies each article using the most common category among the K articles that are the most similar to the ones we are trying to classify. The similarity between articles is computed using TF-IDF scores, which measure how predominant a certain word is in a piece of text."
   ]
  },
  {
   "cell_type": "markdown",
   "metadata": {},
   "source": [
    "Let's get the TF-IDF representation for each article's corpus"
   ]
  },
  {
   "cell_type": "code",
   "execution_count": 22,
   "metadata": {},
   "outputs": [],
   "source": [
    "X_train =[x for x in train['text']]\n",
    "y_train =[y for y in train['category']]\n",
    "X_val = [x for x in val['text']]\n",
    "y_val = [y for y in val['category']]"
   ]
  },
  {
   "cell_type": "code",
   "execution_count": 23,
   "metadata": {},
   "outputs": [],
   "source": [
    "n_features = 1000\n",
    "\n",
    "tfidf_vectorizer = TfidfVectorizer(max_df=0.95, min_df=0.05,\n",
    "                                   max_features=n_features,\n",
    "                                   stop_words='english')\n",
    "\n",
    "X_train_tfidf = tfidf_vectorizer.fit_transform(X_train)\n",
    "X_val_tfidf = tfidf_vectorizer.transform(X_val)"
   ]
  },
  {
   "cell_type": "markdown",
   "metadata": {},
   "source": [
    "We only limit the transformation to the 1000 most popular words to avoid dealing with high dimensionality. Let's take a look a the features selected."
   ]
  },
  {
   "cell_type": "code",
   "execution_count": 21,
   "metadata": {},
   "outputs": [
    {
     "data": {
      "text/plain": [
       "['000',\n",
       " '10',\n",
       " '100',\n",
       " '11',\n",
       " '12',\n",
       " '13',\n",
       " '14',\n",
       " '15',\n",
       " '16',\n",
       " '17',\n",
       " '18',\n",
       " '20',\n",
       " '2012',\n",
       " '2013',\n",
       " '2014',\n",
       " '2015',\n",
       " '2016',\n",
       " '24',\n",
       " '25',\n",
       " '30',\n",
       " '40',\n",
       " '50',\n",
       " '500',\n",
       " 'ability',\n",
       " 'able',\n",
       " 'access',\n",
       " 'according',\n",
       " 'act',\n",
       " 'action',\n",
       " 'actually',\n",
       " 'add',\n",
       " 'added',\n",
       " 'adding',\n",
       " 'addition',\n",
       " 'advice',\n",
       " 'age',\n",
       " 'ago',\n",
       " 'ahead',\n",
       " 'air',\n",
       " 'allow',\n",
       " 'allowed',\n",
       " 'allows',\n",
       " 'america',\n",
       " 'american',\n",
       " 'announced',\n",
       " 'answer',\n",
       " 'approach',\n",
       " 'april',\n",
       " 'area',\n",
       " 'areas',\n",
       " 'aren',\n",
       " 'art',\n",
       " 'ask',\n",
       " 'asked',\n",
       " 'attention',\n",
       " 'author',\n",
       " 'available',\n",
       " 'average',\n",
       " 'avoid',\n",
       " 'away',\n",
       " 'bad',\n",
       " 'base',\n",
       " 'based',\n",
       " 'beautiful',\n",
       " 'began',\n",
       " 'believe',\n",
       " 'benefits',\n",
       " 'best',\n",
       " 'better',\n",
       " 'big',\n",
       " 'biggest',\n",
       " 'bit',\n",
       " 'black',\n",
       " 'blue',\n",
       " 'board',\n",
       " 'body',\n",
       " 'book',\n",
       " 'brand',\n",
       " 'break',\n",
       " 'bring',\n",
       " 'britain',\n",
       " 'british',\n",
       " 'brought',\n",
       " 'build',\n",
       " 'building',\n",
       " 'built',\n",
       " 'business',\n",
       " 'buy',\n",
       " 'called',\n",
       " 'came',\n",
       " 'campaign',\n",
       " 'capital',\n",
       " 'car',\n",
       " 'care',\n",
       " 'career',\n",
       " 'case',\n",
       " 'cause',\n",
       " 'central',\n",
       " 'centre',\n",
       " 'century',\n",
       " 'certain',\n",
       " 'certainly',\n",
       " 'challenge',\n",
       " 'chance',\n",
       " 'change',\n",
       " 'changes',\n",
       " 'check',\n",
       " 'chief',\n",
       " 'child',\n",
       " 'children',\n",
       " 'choice',\n",
       " 'choose',\n",
       " 'city',\n",
       " 'class',\n",
       " 'clean',\n",
       " 'clear',\n",
       " 'close',\n",
       " 'club',\n",
       " 'come',\n",
       " 'comes',\n",
       " 'coming',\n",
       " 'common',\n",
       " 'community',\n",
       " 'companies',\n",
       " 'company',\n",
       " 'compared',\n",
       " 'competition',\n",
       " 'complete',\n",
       " 'completely',\n",
       " 'conditions',\n",
       " 'consider',\n",
       " 'continue',\n",
       " 'control',\n",
       " 'cost',\n",
       " 'costs',\n",
       " 'countries',\n",
       " 'country',\n",
       " 'couple',\n",
       " 'course',\n",
       " 'cover',\n",
       " 'create',\n",
       " 'created',\n",
       " 'creating',\n",
       " 'current',\n",
       " 'currently',\n",
       " 'cut',\n",
       " 'daily',\n",
       " 'data',\n",
       " 'date',\n",
       " 'david',\n",
       " 'day',\n",
       " 'days',\n",
       " 'deal',\n",
       " 'death',\n",
       " 'decided',\n",
       " 'decision',\n",
       " 'deep',\n",
       " 'definitely',\n",
       " 'described',\n",
       " 'design',\n",
       " 'designed',\n",
       " 'despite',\n",
       " 'developed',\n",
       " 'development',\n",
       " 'did',\n",
       " 'didn',\n",
       " 'difference',\n",
       " 'different',\n",
       " 'difficult',\n",
       " 'director',\n",
       " 'does',\n",
       " 'doesn',\n",
       " 'doing',\n",
       " 'don',\n",
       " 'double',\n",
       " 'drive',\n",
       " 'earlier',\n",
       " 'early',\n",
       " 'easier',\n",
       " 'easily',\n",
       " 'east',\n",
       " 'easy',\n",
       " 'eat',\n",
       " 'effect',\n",
       " 'end',\n",
       " 'energy',\n",
       " 'england',\n",
       " 'enjoy',\n",
       " 'ensure',\n",
       " 'entire',\n",
       " 'environment',\n",
       " 'especially',\n",
       " 'europe',\n",
       " 'european',\n",
       " 'event',\n",
       " 'events',\n",
       " 'eventually',\n",
       " 'evidence',\n",
       " 'exactly',\n",
       " 'example',\n",
       " 'expect',\n",
       " 'expected',\n",
       " 'expensive',\n",
       " 'experience',\n",
       " 'extra',\n",
       " 'eye',\n",
       " 'face',\n",
       " 'fact',\n",
       " 'fall',\n",
       " 'family',\n",
       " 'fans',\n",
       " 'far',\n",
       " 'fast',\n",
       " 'feature',\n",
       " 'features',\n",
       " 'feel',\n",
       " 'feeling',\n",
       " 'felt',\n",
       " 'field',\n",
       " 'film',\n",
       " 'final',\n",
       " 'finally',\n",
       " 'financial',\n",
       " 'fine',\n",
       " 'fit',\n",
       " 'focus',\n",
       " 'follow',\n",
       " 'followed',\n",
       " 'following',\n",
       " 'food',\n",
       " 'force',\n",
       " 'form',\n",
       " 'forward',\n",
       " 'france',\n",
       " 'free',\n",
       " 'french',\n",
       " 'fresh',\n",
       " 'friends',\n",
       " 'fully',\n",
       " 'fun',\n",
       " 'future',\n",
       " 'game',\n",
       " 'games',\n",
       " 'gave',\n",
       " 'general',\n",
       " 'gets',\n",
       " 'getting',\n",
       " 'given',\n",
       " 'gives',\n",
       " 'giving',\n",
       " 'global',\n",
       " 'goes',\n",
       " 'going',\n",
       " 'gone',\n",
       " 'good',\n",
       " 'got',\n",
       " 'government',\n",
       " 'great',\n",
       " 'green',\n",
       " 'ground',\n",
       " 'group',\n",
       " 'groups',\n",
       " 'growing',\n",
       " 'growth',\n",
       " 'half',\n",
       " 'hand',\n",
       " 'hands',\n",
       " 'happen',\n",
       " 'happy',\n",
       " 'hard',\n",
       " 'having',\n",
       " 'head',\n",
       " 'health',\n",
       " 'healthy',\n",
       " 'heard',\n",
       " 'heart',\n",
       " 'held',\n",
       " 'help',\n",
       " 'helps',\n",
       " 'high',\n",
       " 'higher',\n",
       " 'highly',\n",
       " 'history',\n",
       " 'hit',\n",
       " 'hold',\n",
       " 'home',\n",
       " 'hope',\n",
       " 'hot',\n",
       " 'hour',\n",
       " 'hours',\n",
       " 'house',\n",
       " 'huge',\n",
       " 'human',\n",
       " 'idea',\n",
       " 'impact',\n",
       " 'important',\n",
       " 'improve',\n",
       " 'include',\n",
       " 'included',\n",
       " 'includes',\n",
       " 'including',\n",
       " 'increase',\n",
       " 'increased',\n",
       " 'individual',\n",
       " 'industry',\n",
       " 'information',\n",
       " 'inside',\n",
       " 'instead',\n",
       " 'interesting',\n",
       " 'international',\n",
       " 'involved',\n",
       " 'isn',\n",
       " 'issue',\n",
       " 'issues',\n",
       " 'january',\n",
       " 'job',\n",
       " 'john',\n",
       " 'june',\n",
       " 'just',\n",
       " 'keeping',\n",
       " 'kept',\n",
       " 'key',\n",
       " 'kind',\n",
       " 'know',\n",
       " 'known',\n",
       " 'lack',\n",
       " 'large',\n",
       " 'late',\n",
       " 'later',\n",
       " 'latest',\n",
       " 'launched',\n",
       " 'lead',\n",
       " 'leading',\n",
       " 'learn',\n",
       " 'leave',\n",
       " 'leaving',\n",
       " 'led',\n",
       " 'left',\n",
       " 'let',\n",
       " 'level',\n",
       " 'levels',\n",
       " 'life',\n",
       " 'light',\n",
       " 'like',\n",
       " 'likely',\n",
       " 'line',\n",
       " 'list',\n",
       " 'little',\n",
       " 'live',\n",
       " 'lives',\n",
       " 'living',\n",
       " 'll',\n",
       " 'local',\n",
       " 'london',\n",
       " 'long',\n",
       " 'longer',\n",
       " 'look',\n",
       " 'looked',\n",
       " 'looking',\n",
       " 'looks',\n",
       " 'loss',\n",
       " 'lost',\n",
       " 'lot',\n",
       " 'love',\n",
       " 'low',\n",
       " 'lower',\n",
       " 'main',\n",
       " 'major',\n",
       " 'make',\n",
       " 'makes',\n",
       " 'making',\n",
       " 'man',\n",
       " 'march',\n",
       " 'mark',\n",
       " 'market',\n",
       " 'match',\n",
       " 'matter',\n",
       " 'maybe',\n",
       " 'mean',\n",
       " 'means',\n",
       " 'media',\n",
       " 'meet',\n",
       " 'members',\n",
       " 'men',\n",
       " 'middle',\n",
       " 'million',\n",
       " 'mind',\n",
       " 'minute',\n",
       " 'minutes',\n",
       " 'model',\n",
       " 'modern',\n",
       " 'moment',\n",
       " 'money',\n",
       " 'month',\n",
       " 'months',\n",
       " 'morning',\n",
       " 'moving',\n",
       " 'mr',\n",
       " 'music',\n",
       " 'named',\n",
       " 'national',\n",
       " 'natural',\n",
       " 'nature',\n",
       " 'near',\n",
       " 'nearly',\n",
       " 'need',\n",
       " 'needed',\n",
       " 'needs',\n",
       " 'new',\n",
       " 'news',\n",
       " 'night',\n",
       " 'non',\n",
       " 'north',\n",
       " 'number',\n",
       " 'october',\n",
       " 'offer',\n",
       " 'offering',\n",
       " 'offers',\n",
       " 'office',\n",
       " 'old',\n",
       " 'ones',\n",
       " 'online',\n",
       " 'open',\n",
       " 'opening',\n",
       " 'opportunity',\n",
       " 'option',\n",
       " 'options',\n",
       " 'order',\n",
       " 'original',\n",
       " 'outside',\n",
       " 'overall',\n",
       " 'pair',\n",
       " 'paper',\n",
       " 'parents',\n",
       " 'particular',\n",
       " 'particularly',\n",
       " 'parts',\n",
       " 'party',\n",
       " 'past',\n",
       " 'pay',\n",
       " 'people',\n",
       " 'percent',\n",
       " 'perfect',\n",
       " 'performance',\n",
       " 'period',\n",
       " 'person',\n",
       " 'personal',\n",
       " 'phone',\n",
       " 'pick',\n",
       " 'piece',\n",
       " 'place',\n",
       " 'places',\n",
       " 'plan',\n",
       " 'plans',\n",
       " 'play',\n",
       " 'played',\n",
       " 'playing',\n",
       " 'plenty',\n",
       " 'plus',\n",
       " 'point',\n",
       " 'points',\n",
       " 'political',\n",
       " 'popular',\n",
       " 'position',\n",
       " 'positive',\n",
       " 'possible',\n",
       " 'post',\n",
       " 'potential',\n",
       " 'power',\n",
       " 'powerful',\n",
       " 'present',\n",
       " 'president',\n",
       " 'pressure',\n",
       " 'pretty',\n",
       " 'previous',\n",
       " 'previously',\n",
       " 'price',\n",
       " 'private',\n",
       " 'probably',\n",
       " 'problem',\n",
       " 'problems',\n",
       " 'process',\n",
       " 'produce',\n",
       " 'produced',\n",
       " 'product',\n",
       " 'production',\n",
       " 'products',\n",
       " 'project',\n",
       " 'provide',\n",
       " 'public',\n",
       " 'published',\n",
       " 'putting',\n",
       " 'quality',\n",
       " 'question',\n",
       " 'questions',\n",
       " 'quickly',\n",
       " 'quite',\n",
       " 'range',\n",
       " 'rate',\n",
       " 'reach',\n",
       " 'read',\n",
       " 'ready',\n",
       " 'real',\n",
       " 'really',\n",
       " 'reason',\n",
       " 'received',\n",
       " 'recent',\n",
       " 'recently',\n",
       " 'record',\n",
       " 'red',\n",
       " 'regular',\n",
       " 'relationship',\n",
       " 'release',\n",
       " 'released',\n",
       " 'remain',\n",
       " 'remains',\n",
       " 'remember',\n",
       " 'report',\n",
       " 'reported',\n",
       " 'reports',\n",
       " 'research',\n",
       " 'researchers',\n",
       " 'rest',\n",
       " 'result',\n",
       " 'results',\n",
       " 'return',\n",
       " 'revealed',\n",
       " 'right',\n",
       " 'rise',\n",
       " 'risk',\n",
       " 'road',\n",
       " 'role',\n",
       " 'room',\n",
       " 'round',\n",
       " 'run',\n",
       " 'running',\n",
       " 'safe',\n",
       " 'said',\n",
       " 'saw',\n",
       " 'say',\n",
       " 'saying',\n",
       " 'says',\n",
       " 'scale',\n",
       " 'school',\n",
       " 'science',\n",
       " 'scientists',\n",
       " 'season',\n",
       " 'second',\n",
       " 'security',\n",
       " 'seen',\n",
       " 'self',\n",
       " 'sense',\n",
       " 'september',\n",
       " 'series',\n",
       " 'service',\n",
       " 'services',\n",
       " 'set',\n",
       " 'setting',\n",
       " 'seven',\n",
       " 'share',\n",
       " 'short',\n",
       " 'showed',\n",
       " 'shows',\n",
       " 'significant',\n",
       " 'similar',\n",
       " 'simple',\n",
       " 'simply',\n",
       " 'single',\n",
       " 'site',\n",
       " 'situation',\n",
       " 'size',\n",
       " 'slightly',\n",
       " 'small',\n",
       " 'smaller',\n",
       " 'social',\n",
       " 'society',\n",
       " 'soon',\n",
       " 'sort',\n",
       " 'sound',\n",
       " 'sounds',\n",
       " 'south',\n",
       " 'space',\n",
       " 'special',\n",
       " 'specific',\n",
       " 'speed',\n",
       " 'spend',\n",
       " 'spent',\n",
       " 'sports',\n",
       " 'spot',\n",
       " 'stage',\n",
       " 'stand',\n",
       " 'standard',\n",
       " 'star',\n",
       " 'start',\n",
       " 'started',\n",
       " 'starting',\n",
       " 'state',\n",
       " 'statement',\n",
       " 'states',\n",
       " 'stay',\n",
       " 'step',\n",
       " 'stop',\n",
       " 'story',\n",
       " 'straight',\n",
       " 'street',\n",
       " 'strong',\n",
       " 'study',\n",
       " 'style',\n",
       " 'success',\n",
       " 'successful',\n",
       " 'suggests',\n",
       " 'summer',\n",
       " 'sunday',\n",
       " 'support',\n",
       " 'sure',\n",
       " 'taken',\n",
       " 'takes',\n",
       " 'taking',\n",
       " 'talk',\n",
       " 'talking',\n",
       " 'team',\n",
       " 'technology',\n",
       " 'tell',\n",
       " 'term',\n",
       " 'terms',\n",
       " 'test',\n",
       " 'thanks',\n",
       " 'thing',\n",
       " 'things',\n",
       " 'think',\n",
       " 'thinking',\n",
       " 'thought',\n",
       " 'thousands',\n",
       " 'time',\n",
       " 'times',\n",
       " 'title',\n",
       " 'today',\n",
       " 'told',\n",
       " 'took',\n",
       " 'total',\n",
       " 'tour',\n",
       " 'town',\n",
       " 'track',\n",
       " 'traditional',\n",
       " 'training',\n",
       " 'travel',\n",
       " 'tried',\n",
       " 'true',\n",
       " 'try',\n",
       " 'trying',\n",
       " 'turn',\n",
       " 'turned',\n",
       " 'tv',\n",
       " 'type',\n",
       " 'uk',\n",
       " 'understand',\n",
       " 'unique',\n",
       " 'united',\n",
       " 'university',\n",
       " 'use',\n",
       " 'used',\n",
       " 'users',\n",
       " 'uses',\n",
       " 'using',\n",
       " 'usually',\n",
       " 'value',\n",
       " 'various',\n",
       " 've',\n",
       " 'version',\n",
       " 'video',\n",
       " 'view',\n",
       " 'visit',\n",
       " 'walk',\n",
       " 'want',\n",
       " 'wanted',\n",
       " 'wants',\n",
       " 'war',\n",
       " 'wasn',\n",
       " 'watch',\n",
       " 'water',\n",
       " 'way',\n",
       " 'ways',\n",
       " 'website',\n",
       " 'week',\n",
       " 'weekend',\n",
       " 'weeks',\n",
       " 'weight',\n",
       " 'went',\n",
       " 'west',\n",
       " 'white',\n",
       " 'wide',\n",
       " 'win',\n",
       " 'winning',\n",
       " 'woman',\n",
       " 'women',\n",
       " 'won',\n",
       " 'words',\n",
       " 'work',\n",
       " 'worked',\n",
       " 'working',\n",
       " 'works',\n",
       " 'world',\n",
       " 'worth',\n",
       " 'wrong',\n",
       " 'wrote',\n",
       " 'year',\n",
       " 'years',\n",
       " 'yes',\n",
       " 'york',\n",
       " 'young']"
      ]
     },
     "execution_count": 21,
     "metadata": {},
     "output_type": "execute_result"
    }
   ],
   "source": [
    "tfidf_vectorizer.get_feature_names()"
   ]
  },
  {
   "cell_type": "markdown",
   "metadata": {},
   "source": [
    "Words that are likely highly correlated with the category of the article such as _car_ or _science_ or _political_ are in the mix."
   ]
  },
  {
   "cell_type": "markdown",
   "metadata": {},
   "source": [
    "Let's train the KNN classifier. I used GridSearch to find the optimal parameters such as number of neighbors and weighting applied to them. "
   ]
  },
  {
   "cell_type": "code",
   "execution_count": 24,
   "metadata": {},
   "outputs": [
    {
     "data": {
      "text/plain": [
       "GridSearchCV(cv=5, error_score='raise-deprecating',\n",
       "             estimator=KNeighborsClassifier(algorithm='auto', leaf_size=30,\n",
       "                                            metric='minkowski',\n",
       "                                            metric_params=None, n_jobs=None,\n",
       "                                            n_neighbors=5, p=2,\n",
       "                                            weights='uniform'),\n",
       "             iid='warn', n_jobs=None,\n",
       "             param_grid={'n_neighbors': [3, 5, 7, 10],\n",
       "                         'weights': ['uniform', 'distance']},\n",
       "             pre_dispatch='2*n_jobs', refit=True, return_train_score=False,\n",
       "             scoring=None, verbose=0)"
      ]
     },
     "execution_count": 24,
     "metadata": {},
     "output_type": "execute_result"
    }
   ],
   "source": [
    "params = {\n",
    "    'n_neighbors':[3,5,7,10],\n",
    "    'weights':['uniform', 'distance']\n",
    "         }\n",
    "knn_classifier = KNeighborsClassifier()\n",
    "knn= GridSearchCV(knn_classifier, params, cv=5)\n",
    "knn.fit(X_train_tfidf, y_train)"
   ]
  },
  {
   "cell_type": "markdown",
   "metadata": {},
   "source": [
    "### K-Nearest Neighbor: evaluation"
   ]
  },
  {
   "cell_type": "code",
   "execution_count": 25,
   "metadata": {},
   "outputs": [],
   "source": [
    "pred = knn.predict(X_val_tfidf)"
   ]
  },
  {
   "cell_type": "code",
   "execution_count": 26,
   "metadata": {},
   "outputs": [
    {
     "data": {
      "text/plain": [
       "0.6831742243436754"
      ]
     },
     "execution_count": 26,
     "metadata": {},
     "output_type": "execute_result"
    }
   ],
   "source": [
    "accuracy_score(y_val, pred)"
   ]
  },
  {
   "cell_type": "markdown",
   "metadata": {},
   "source": [
    "Nearest neighbor provides an improvement over naive bayes with 66% accuracy compared to 52% accuracy"
   ]
  },
  {
   "cell_type": "code",
   "execution_count": 27,
   "metadata": {},
   "outputs": [
    {
     "data": {
      "text/plain": [
       "array([[ 55,   2,   6,   6,   3,   2,   1,   0,   0,   3,   2,   2],\n",
       "       [  0,  52,   2,  13,   5,   7,   1,   1,   3,   5,   7,   4],\n",
       "       [  4,   3,  86,   9,  16,   3,   5,   0,   1,   5,   6,   4],\n",
       "       [  3,   6,   6, 185,   8,  14,  10,   0,   3,   9,  22,   5],\n",
       "       [  2,   2,  11,  10, 120,   2,   2,   0,  10,   3,   6,   0],\n",
       "       [  0,   3,   1,   3,   3,  75,   1,   0,   3,   7,   3,   0],\n",
       "       [  4,   4,   2,  10,  10,   2,  63,   5,  18,   1,  10,   1],\n",
       "       [  0,  18,   7,   6,   2,   8,   3,  16,   0,   7,   3,   1],\n",
       "       [  1,   0,   0,   5,   3,   1,   4,   0,  77,   2,   2,   0],\n",
       "       [  1,   2,   3,   3,   1,   3,   2,   1,   3, 181,   4,   1],\n",
       "       [  0,   5,   2,  17,   5,   2,   5,   0,   6,   2, 158,   3],\n",
       "       [  2,   1,   2,  15,   2,   1,   1,   1,   1,   2,   3,  77]])"
      ]
     },
     "execution_count": 27,
     "metadata": {},
     "output_type": "execute_result"
    }
   ],
   "source": [
    "confusion_matrix(y_val, pred)"
   ]
  },
  {
   "cell_type": "code",
   "execution_count": 28,
   "metadata": {},
   "outputs": [
    {
     "data": {
      "text/plain": [
       "0.675594161173101"
      ]
     },
     "execution_count": 28,
     "metadata": {},
     "output_type": "execute_result"
    }
   ],
   "source": [
    "f1_score(y_val, pred, average='weighted')"
   ]
  },
  {
   "cell_type": "markdown",
   "metadata": {},
   "source": [
    "Unlike in the Naive approach, the most popular category is not predicted for nearly as many misclassified samples."
   ]
  },
  {
   "cell_type": "markdown",
   "metadata": {},
   "source": [
    "## Gradient Boosted Trees"
   ]
  },
  {
   "cell_type": "markdown",
   "metadata": {},
   "source": [
    "In this approach, I took the TF-IDF representation of the article corpora and merge it with a vector representation of each website. The resulting features are fed to a grandient boosted tree model that I manually optimize to minimize classification error on the validation set"
   ]
  },
  {
   "cell_type": "markdown",
   "metadata": {},
   "source": [
    "First, I will have to pre-process the data. The steps:\n",
    "- get one-hot encoded representation of websites\n",
    "- merge with tf-idf representation"
   ]
  },
  {
   "cell_type": "code",
   "execution_count": 30,
   "metadata": {},
   "outputs": [],
   "source": [
    "encoder = OneHotEncoder(handle_unknown='ignore', drop=None, sparse=True)\n",
    "encoder.fit(np.array(train[~pd.isnull(train['website'])]).reshape(-1,1))\n",
    "X_train_1h=encoder.transform(np.array(train['website']).reshape(-1,1))\n",
    "X_val_1h=encoder.transform(np.array(val['website']).reshape(-1,1))\n",
    "X_train_xg = hstack((X_train_1h, X_train_tfidf))\n",
    "X_val_xg = hstack((X_val_1h, X_val_tfidf))\n",
    "le = LabelEncoder()\n",
    "le.fit(dt['category'])\n",
    "y_train_xg = le.transform(y_train)\n",
    "y_val_xg = le.transform(y_val)\n",
    "dtrain = xgboost.DMatrix(X_train_xg.tocsr(), label=y_train_xg)\n",
    "dval = xgboost.DMatrix(X_val_xg.tocsr(), label=y_val_xg)"
   ]
  },
  {
   "cell_type": "markdown",
   "metadata": {},
   "source": [
    "A convenience function to plot the multi-classification error for each iteration of the tree."
   ]
  },
  {
   "cell_type": "code",
   "execution_count": 31,
   "metadata": {},
   "outputs": [],
   "source": [
    "def plotResults(train_stats):\n",
    "    x_axis = range(0, len(train_stats['train']['merror']))\n",
    "    fig, ax = pyplot.subplots()\n",
    "    ax.plot(x_axis, train_stats['train']['merror'], label='Train')\n",
    "    ax.plot(x_axis, train_stats['eval']['merror'], label='Eval')\n",
    "    ax.set_ylim(ymin=0)\n",
    "    ax.legend()\n",
    "    pyplot.ylabel('error rate')\n",
    "    pyplot.title('XGBoost multiclass error rate')\n",
    "    pyplot.show()"
   ]
  },
  {
   "cell_type": "markdown",
   "metadata": {},
   "source": [
    "### Parameter tuning"
   ]
  },
  {
   "cell_type": "markdown",
   "metadata": {},
   "source": [
    "given the computational cost of training gradient boosted trees models, I prefer tuning parameters manually rather than automatically through Grid Search"
   ]
  },
  {
   "cell_type": "code",
   "execution_count": 36,
   "metadata": {},
   "outputs": [
    {
     "name": "stdout",
     "output_type": "stream",
     "text": [
      "[0]\teval-merror:0.40871\ttrain-merror:0.30918\n",
      "[1]\teval-merror:0.35919\ttrain-merror:0.24017\n",
      "[2]\teval-merror:0.34188\ttrain-merror:0.20703\n",
      "[3]\teval-merror:0.33890\ttrain-merror:0.18608\n",
      "[4]\teval-merror:0.32936\ttrain-merror:0.16671\n",
      "[5]\teval-merror:0.32100\ttrain-merror:0.15093\n",
      "[6]\teval-merror:0.31563\ttrain-merror:0.13544\n",
      "[7]\teval-merror:0.31146\ttrain-merror:0.12410\n",
      "[8]\teval-merror:0.30489\ttrain-merror:0.11349\n",
      "[9]\teval-merror:0.29833\ttrain-merror:0.10143\n",
      "[10]\teval-merror:0.29415\ttrain-merror:0.09541\n",
      "[11]\teval-merror:0.29296\ttrain-merror:0.08608\n",
      "[12]\teval-merror:0.29177\ttrain-merror:0.08106\n",
      "[13]\teval-merror:0.28520\ttrain-merror:0.07418\n",
      "[14]\teval-merror:0.27983\ttrain-merror:0.06786\n",
      "[15]\teval-merror:0.27983\ttrain-merror:0.06212\n",
      "[16]\teval-merror:0.28222\ttrain-merror:0.05667\n",
      "[17]\teval-merror:0.27983\ttrain-merror:0.05151\n",
      "[18]\teval-merror:0.27566\ttrain-merror:0.04849\n",
      "[19]\teval-merror:0.26671\ttrain-merror:0.04519\n",
      "[20]\teval-merror:0.26253\ttrain-merror:0.03960\n",
      "[21]\teval-merror:0.26611\ttrain-merror:0.03716\n",
      "[22]\teval-merror:0.26492\ttrain-merror:0.03372\n",
      "[23]\teval-merror:0.26492\ttrain-merror:0.03171\n",
      "[24]\teval-merror:0.26253\ttrain-merror:0.02855\n",
      "[25]\teval-merror:0.26253\ttrain-merror:0.02597\n",
      "[26]\teval-merror:0.26313\ttrain-merror:0.02511\n",
      "[27]\teval-merror:0.26074\ttrain-merror:0.02296\n",
      "[28]\teval-merror:0.25895\ttrain-merror:0.01951\n",
      "[29]\teval-merror:0.25656\ttrain-merror:0.01793\n"
     ]
    },
    {
     "data": {
      "image/png": "[encoded data removed]",
      "text/plain": [
       "<Figure size 432x288 with 1 Axes>"
      ]
     },
     "metadata": {
      "needs_background": "light"
     },
     "output_type": "display_data"
    }
   ],
   "source": [
    "train_stats={}\n",
    "num_round = 30\n",
    "evallist = [(dval, 'eval'), (dtrain, 'train')]\n",
    "params = {\n",
    "    \"booster\":'gbtree',\n",
    "    \"max_depth\": 6,\n",
    "    \"eta\": 0.3,\n",
    "    \"objective\":\"multi:softmax\",\n",
    "    \"num_class\":len(train['category'].unique()),\n",
    "    'eval_metric':['merror']\n",
    "}\n",
    "bst = xgboost.train(params, dtrain, num_round, evallist, evals_result=train_stats)\n",
    "plotResults(train_stats)"
   ]
  },
  {
   "cell_type": "markdown",
   "metadata": {},
   "source": [
    "the model is showing low training error but high validation error, likely caused by overfitting. Let's reduce the complexity of the model to see if we can decrease this behavior. "
   ]
  },
  {
   "cell_type": "code",
   "execution_count": 49,
   "metadata": {},
   "outputs": [
    {
     "name": "stdout",
     "output_type": "stream",
     "text": [
      "[0]\teval-merror:0.41867\ttrain-merror:0.30667\n",
      "[1]\teval-merror:0.39118\ttrain-merror:0.23913\n",
      "[2]\teval-merror:0.36884\ttrain-merror:0.20899\n",
      "[3]\teval-merror:0.36083\ttrain-merror:0.18609\n",
      "[4]\teval-merror:0.35052\ttrain-merror:0.16710\n",
      "[5]\teval-merror:0.34192\ttrain-merror:0.15377\n",
      "[6]\teval-merror:0.33276\ttrain-merror:0.14130\n",
      "[7]\teval-merror:0.32532\ttrain-merror:0.12812\n",
      "[8]\teval-merror:0.32016\ttrain-merror:0.11739\n",
      "[9]\teval-merror:0.31558\ttrain-merror:0.10884\n",
      "[10]\teval-merror:0.30928\ttrain-merror:0.10029\n",
      "[11]\teval-merror:0.30527\ttrain-merror:0.08971\n",
      "[12]\teval-merror:0.29782\ttrain-merror:0.08275\n",
      "[13]\teval-merror:0.29840\ttrain-merror:0.07623\n",
      "[14]\teval-merror:0.29324\ttrain-merror:0.07130\n",
      "[15]\teval-merror:0.28751\ttrain-merror:0.06464\n",
      "[16]\teval-merror:0.28580\ttrain-merror:0.06116\n",
      "[17]\teval-merror:0.28293\ttrain-merror:0.05754\n",
      "[18]\teval-merror:0.27778\ttrain-merror:0.05275\n",
      "[19]\teval-merror:0.28236\ttrain-merror:0.04870\n",
      "[20]\teval-merror:0.27720\ttrain-merror:0.04623\n",
      "[21]\teval-merror:0.27549\ttrain-merror:0.04377\n",
      "[22]\teval-merror:0.26861\ttrain-merror:0.03884\n",
      "[23]\teval-merror:0.26861\ttrain-merror:0.03681\n",
      "[24]\teval-merror:0.26976\ttrain-merror:0.03464\n",
      "[25]\teval-merror:0.26747\ttrain-merror:0.03232\n",
      "[26]\teval-merror:0.26174\ttrain-merror:0.02971\n",
      "[27]\teval-merror:0.26117\ttrain-merror:0.02783\n",
      "[28]\teval-merror:0.26060\ttrain-merror:0.02580\n",
      "[29]\teval-merror:0.26002\ttrain-merror:0.02522\n"
     ]
    }
   ],
   "source": [
    "num_round = 30\n",
    "train_stats={}\n",
    "params = {\n",
    "    \"booster\":'gbtree',\n",
    "    \"max_depth\": 6,\n",
    "    \"eta\": 0.3,\n",
    "    \"gamma\": 1,\n",
    "    \"objective\":\"multi:softmax\",\n",
    "    \"num_class\":len(train['category'].unique())\n",
    "    \n",
    "}\n",
    "bst = xgboost.train(params, dtrain, num_round, evallist, evals_result=train_stats)\n",
    "plotResults(train_stats)"
   ]
  },
  {
   "cell_type": "markdown",
   "metadata": {},
   "source": [
    "Increasing the gamma but keeping the tree relatively deep doesn't seem to provide much benefit to the validation error."
   ]
  },
  {
   "cell_type": "code",
   "execution_count": 50,
   "metadata": {},
   "outputs": [
    {
     "name": "stdout",
     "output_type": "stream",
     "text": [
      "[0]\teval-merror:0.43413\ttrain-merror:0.33696\n",
      "[1]\teval-merror:0.39290\ttrain-merror:0.27290\n",
      "[2]\teval-merror:0.37514\ttrain-merror:0.23957\n",
      "[3]\teval-merror:0.36942\ttrain-merror:0.21406\n",
      "[4]\teval-merror:0.35281\ttrain-merror:0.19594\n",
      "[5]\teval-merror:0.34421\ttrain-merror:0.17899\n",
      "[6]\teval-merror:0.33849\ttrain-merror:0.16493\n",
      "[7]\teval-merror:0.32875\ttrain-merror:0.15145\n",
      "[8]\teval-merror:0.31615\ttrain-merror:0.14058\n",
      "[9]\teval-merror:0.31329\ttrain-merror:0.13087\n",
      "[10]\teval-merror:0.30871\ttrain-merror:0.12232\n",
      "[11]\teval-merror:0.30355\ttrain-merror:0.11275\n",
      "[12]\teval-merror:0.30183\ttrain-merror:0.10333\n",
      "[13]\teval-merror:0.30012\ttrain-merror:0.09348\n",
      "[14]\teval-merror:0.29439\ttrain-merror:0.08536\n",
      "[15]\teval-merror:0.29038\ttrain-merror:0.08073\n",
      "[16]\teval-merror:0.28809\ttrain-merror:0.07507\n",
      "[17]\teval-merror:0.28408\ttrain-merror:0.07029\n",
      "[18]\teval-merror:0.28236\ttrain-merror:0.06565\n",
      "[19]\teval-merror:0.28007\ttrain-merror:0.06058\n",
      "[20]\teval-merror:0.28236\ttrain-merror:0.05594\n",
      "[21]\teval-merror:0.28121\ttrain-merror:0.05188\n",
      "[22]\teval-merror:0.28064\ttrain-merror:0.04855\n",
      "[23]\teval-merror:0.28007\ttrain-merror:0.04623\n",
      "[24]\teval-merror:0.27549\ttrain-merror:0.04362\n",
      "[25]\teval-merror:0.27091\ttrain-merror:0.04101\n",
      "[26]\teval-merror:0.27091\ttrain-merror:0.03884\n",
      "[27]\teval-merror:0.26804\ttrain-merror:0.03710\n",
      "[28]\teval-merror:0.26747\ttrain-merror:0.03464\n",
      "[29]\teval-merror:0.26690\ttrain-merror:0.03203\n"
     ]
    },
    {
     "data": {
      "image/png": "[encoded data removed]",
      "text/plain": [
       "<Figure size 432x288 with 1 Axes>"
      ]
     },
     "metadata": {
      "needs_background": "light"
     },
     "output_type": "display_data"
    }
   ],
   "source": [
    "num_round = 30\n",
    "train_stats={}\n",
    "params = {\n",
    "    \"booster\":'gbtree',\n",
    "    \"max_depth\": 6,\n",
    "    \"eta\": 0.3,\n",
    "    \"objective\":\"multi:softmax\",\n",
    "    \"num_class\":len(train['category'].unique()),\n",
    "    \"min_child_weight\":3\n",
    "}\n",
    "bst = xgboost.train(params, dtrain, num_round, evallist, evals_result=train_stats)\n",
    "plotResults(train_stats)"
   ]
  },
  {
   "cell_type": "markdown",
   "metadata": {},
   "source": [
    "Incresaing another parameter that regulates further tree partitioning behavior does not seem to help either."
   ]
  },
  {
   "cell_type": "code",
   "execution_count": 51,
   "metadata": {},
   "outputs": [
    {
     "name": "stdout",
     "output_type": "stream",
     "text": [
      "[0]\teval-merror:0.48167\ttrain-merror:0.42290\n",
      "[1]\teval-merror:0.42898\ttrain-merror:0.36985\n",
      "[2]\teval-merror:0.41695\ttrain-merror:0.34275\n",
      "[3]\teval-merror:0.39404\ttrain-merror:0.32348\n",
      "[4]\teval-merror:0.38488\ttrain-merror:0.30826\n",
      "[5]\teval-merror:0.37629\ttrain-merror:0.29464\n",
      "[6]\teval-merror:0.36655\ttrain-merror:0.28304\n",
      "[7]\teval-merror:0.36197\ttrain-merror:0.27377\n",
      "[8]\teval-merror:0.35052\ttrain-merror:0.26420\n",
      "[9]\teval-merror:0.34708\ttrain-merror:0.25406\n",
      "[10]\teval-merror:0.34421\ttrain-merror:0.24985\n",
      "[11]\teval-merror:0.33333\ttrain-merror:0.24116\n",
      "[12]\teval-merror:0.32875\ttrain-merror:0.23333\n",
      "[13]\teval-merror:0.32532\ttrain-merror:0.22551\n",
      "[14]\teval-merror:0.31558\ttrain-merror:0.21783\n",
      "[15]\teval-merror:0.31443\ttrain-merror:0.20826\n",
      "[16]\teval-merror:0.30699\ttrain-merror:0.20116\n",
      "[17]\teval-merror:0.30298\ttrain-merror:0.19391\n",
      "[18]\teval-merror:0.29611\ttrain-merror:0.18913\n",
      "[19]\teval-merror:0.29381\ttrain-merror:0.18391\n",
      "[20]\teval-merror:0.28751\ttrain-merror:0.17985\n",
      "[21]\teval-merror:0.28637\ttrain-merror:0.17232\n",
      "[22]\teval-merror:0.28923\ttrain-merror:0.16899\n",
      "[23]\teval-merror:0.28694\ttrain-merror:0.16348\n",
      "[24]\teval-merror:0.28007\ttrain-merror:0.15739\n",
      "[25]\teval-merror:0.28179\ttrain-merror:0.15290\n",
      "[26]\teval-merror:0.28064\ttrain-merror:0.14899\n",
      "[27]\teval-merror:0.28121\ttrain-merror:0.14478\n",
      "[28]\teval-merror:0.27606\ttrain-merror:0.14159\n",
      "[29]\teval-merror:0.27606\ttrain-merror:0.13928\n"
     ]
    },
    {
     "data": {
      "image/png": "[encoded data removed]",
      "text/plain": [
       "<Figure size 432x288 with 1 Axes>"
      ]
     },
     "metadata": {
      "needs_background": "light"
     },
     "output_type": "display_data"
    }
   ],
   "source": [
    "num_round = 30\n",
    "train_stats={}\n",
    "params = {\n",
    "    \"booster\":'gbtree',\n",
    "    \"max_depth\": 3,\n",
    "    \"eta\": 0.3,\n",
    "    \"objective\":\"multi:softmax\",\n",
    "    \"num_class\":len(train['category'].unique())\n",
    "}\n",
    "bst = xgboost.train(params, dtrain, num_round, evallist, evals_result=train_stats)\n",
    "plotResults(train_stats)"
   ]
  },
  {
   "cell_type": "markdown",
   "metadata": {},
   "source": [
    "Decreasing the tree size seems to help decrease the gap between train error and evaluation error, which is positive since it will likely lead to less overfitting. On the other hand, it looks like the model could benefit from more round as the training error was still decreasing at iteration #30"
   ]
  },
  {
   "cell_type": "code",
   "execution_count": 54,
   "metadata": {},
   "outputs": [
    {
     "name": "stdout",
     "output_type": "stream",
     "text": [
      "[0]\teval-merror:0.48167\ttrain-merror:0.42290\n",
      "[1]\teval-merror:0.44731\ttrain-merror:0.39275\n",
      "[2]\teval-merror:0.43814\ttrain-merror:0.37449\n",
      "[3]\teval-merror:0.42383\ttrain-merror:0.36681\n",
      "[4]\teval-merror:0.41581\ttrain-merror:0.35710\n",
      "[5]\teval-merror:0.41008\ttrain-merror:0.35246\n",
      "[6]\teval-merror:0.40722\ttrain-merror:0.35116\n",
      "[7]\teval-merror:0.40206\ttrain-merror:0.34087\n",
      "[8]\teval-merror:0.39462\ttrain-merror:0.33536\n",
      "[9]\teval-merror:0.39003\ttrain-merror:0.33261\n",
      "[10]\teval-merror:0.38660\ttrain-merror:0.32696\n",
      "[11]\teval-merror:0.38316\ttrain-merror:0.32246\n",
      "[12]\teval-merror:0.38144\ttrain-merror:0.31594\n",
      "[13]\teval-merror:0.37972\ttrain-merror:0.31246\n",
      "[14]\teval-merror:0.37801\ttrain-merror:0.30667\n",
      "[15]\teval-merror:0.37514\ttrain-merror:0.30377\n",
      "[16]\teval-merror:0.37285\ttrain-merror:0.29725\n",
      "[17]\teval-merror:0.36999\ttrain-merror:0.29507\n",
      "[18]\teval-merror:0.36598\ttrain-merror:0.29275\n",
      "[19]\teval-merror:0.36541\ttrain-merror:0.28870\n",
      "[20]\teval-merror:0.36426\ttrain-merror:0.28609\n",
      "[21]\teval-merror:0.36197\ttrain-merror:0.28449\n",
      "[22]\teval-merror:0.35624\ttrain-merror:0.28116\n",
      "[23]\teval-merror:0.35223\ttrain-merror:0.27551\n",
      "[24]\teval-merror:0.34880\ttrain-merror:0.27188\n",
      "[25]\teval-merror:0.35166\ttrain-merror:0.27130\n",
      "[26]\teval-merror:0.34880\ttrain-merror:0.26739\n",
      "[27]\teval-merror:0.34880\ttrain-merror:0.26377\n",
      "[28]\teval-merror:0.34307\ttrain-merror:0.25913\n",
      "[29]\teval-merror:0.34250\ttrain-merror:0.25594\n",
      "[30]\teval-merror:0.34250\ttrain-merror:0.25246\n",
      "[31]\teval-merror:0.33677\ttrain-merror:0.25116\n",
      "[32]\teval-merror:0.33562\ttrain-merror:0.24725\n",
      "[33]\teval-merror:0.33219\ttrain-merror:0.24377\n",
      "[34]\teval-merror:0.32818\ttrain-merror:0.24058\n",
      "[35]\teval-merror:0.32990\ttrain-merror:0.23725\n",
      "[36]\teval-merror:0.32761\ttrain-merror:0.23493\n",
      "[37]\teval-merror:0.32646\ttrain-merror:0.23406\n",
      "[38]\teval-merror:0.32532\ttrain-merror:0.23159\n",
      "[39]\teval-merror:0.32360\ttrain-merror:0.22870\n",
      "[40]\teval-merror:0.32302\ttrain-merror:0.22681\n",
      "[41]\teval-merror:0.32131\ttrain-merror:0.22435\n",
      "[42]\teval-merror:0.31730\ttrain-merror:0.21985\n",
      "[43]\teval-merror:0.31558\ttrain-merror:0.21884\n",
      "[44]\teval-merror:0.31443\ttrain-merror:0.21580\n",
      "[45]\teval-merror:0.31329\ttrain-merror:0.21478\n",
      "[46]\teval-merror:0.31100\ttrain-merror:0.21261\n",
      "[47]\teval-merror:0.31329\ttrain-merror:0.21014\n",
      "[48]\teval-merror:0.31443\ttrain-merror:0.20870\n",
      "[49]\teval-merror:0.31100\ttrain-merror:0.20638\n",
      "[50]\teval-merror:0.30871\ttrain-merror:0.20377\n",
      "[51]\teval-merror:0.30470\ttrain-merror:0.20188\n",
      "[52]\teval-merror:0.30298\ttrain-merror:0.19986\n",
      "[53]\teval-merror:0.30355\ttrain-merror:0.19754\n",
      "[54]\teval-merror:0.29782\ttrain-merror:0.19449\n",
      "[55]\teval-merror:0.29782\ttrain-merror:0.19333\n",
      "[56]\teval-merror:0.29439\ttrain-merror:0.19073\n",
      "[57]\teval-merror:0.29267\ttrain-merror:0.18783\n",
      "[58]\teval-merror:0.29267\ttrain-merror:0.18696\n",
      "[59]\teval-merror:0.29267\ttrain-merror:0.18681\n",
      "[60]\teval-merror:0.29210\ttrain-merror:0.18522\n",
      "[61]\teval-merror:0.29210\ttrain-merror:0.18261\n",
      "[62]\teval-merror:0.28465\ttrain-merror:0.17971\n",
      "[63]\teval-merror:0.28408\ttrain-merror:0.17942\n",
      "[64]\teval-merror:0.28408\ttrain-merror:0.17681\n",
      "[65]\teval-merror:0.28007\ttrain-merror:0.17565\n",
      "[66]\teval-merror:0.27950\ttrain-merror:0.17464\n",
      "[67]\teval-merror:0.27892\ttrain-merror:0.17377\n",
      "[68]\teval-merror:0.27892\ttrain-merror:0.17130\n",
      "[69]\teval-merror:0.28064\ttrain-merror:0.16971\n",
      "[70]\teval-merror:0.28007\ttrain-merror:0.16870\n",
      "[71]\teval-merror:0.27835\ttrain-merror:0.16710\n",
      "[72]\teval-merror:0.27778\ttrain-merror:0.16551\n",
      "[73]\teval-merror:0.27549\ttrain-merror:0.16478\n",
      "[74]\teval-merror:0.27320\ttrain-merror:0.16290\n",
      "[75]\teval-merror:0.27205\ttrain-merror:0.16043\n",
      "[76]\teval-merror:0.27262\ttrain-merror:0.15812\n",
      "[77]\teval-merror:0.27148\ttrain-merror:0.15638\n",
      "[78]\teval-merror:0.27033\ttrain-merror:0.15565\n",
      "[79]\teval-merror:0.26919\ttrain-merror:0.15362\n",
      "[80]\teval-merror:0.26804\ttrain-merror:0.15232\n",
      "[81]\teval-merror:0.26976\ttrain-merror:0.15159\n",
      "[82]\teval-merror:0.26976\ttrain-merror:0.15015\n",
      "[83]\teval-merror:0.26919\ttrain-merror:0.14812\n",
      "[84]\teval-merror:0.26919\ttrain-merror:0.14739\n",
      "[85]\teval-merror:0.26747\ttrain-merror:0.14522\n",
      "[86]\teval-merror:0.26690\ttrain-merror:0.14478\n",
      "[87]\teval-merror:0.26747\ttrain-merror:0.14319\n",
      "[88]\teval-merror:0.26518\ttrain-merror:0.14174\n",
      "[89]\teval-merror:0.26289\ttrain-merror:0.14072\n",
      "[90]\teval-merror:0.26289\ttrain-merror:0.14029\n",
      "[91]\teval-merror:0.26289\ttrain-merror:0.13942\n",
      "[92]\teval-merror:0.26289\ttrain-merror:0.13797\n",
      "[93]\teval-merror:0.26460\ttrain-merror:0.13681\n",
      "[94]\teval-merror:0.26346\ttrain-merror:0.13449\n",
      "[95]\teval-merror:0.26289\ttrain-merror:0.13362\n",
      "[96]\teval-merror:0.26289\ttrain-merror:0.13232\n",
      "[97]\teval-merror:0.26174\ttrain-merror:0.13015\n",
      "[98]\teval-merror:0.25888\ttrain-merror:0.13029\n",
      "[99]\teval-merror:0.26002\ttrain-merror:0.12855\n"
     ]
    },
    {
     "data": {
      "image/png": "[encoded data removed]",
      "text/plain": [
       "<Figure size 432x288 with 1 Axes>"
      ]
     },
     "metadata": {
      "needs_background": "light"
     },
     "output_type": "display_data"
    }
   ],
   "source": [
    "num_round = 100\n",
    "train_stats={}\n",
    "params = {\n",
    "    \"booster\":'gbtree',\n",
    "    \"max_depth\": 3,\n",
    "    \"eta\": 0.1,\n",
    "    \"objective\":\"multi:softmax\",\n",
    "    \"num_class\":len(train['category'].unique())\n",
    "}\n",
    "bst = xgboost.train(params, dtrain, num_round, evallist, evals_result=train_stats)\n",
    "plotResults(train_stats)"
   ]
  },
  {
   "cell_type": "markdown",
   "metadata": {},
   "source": [
    "Reducing learning rate also helps decrease the gap between trainign and evaluation error. On the flip side, the model will require more rounds to minimize training and evaluation error."
   ]
  },
  {
   "cell_type": "code",
   "execution_count": 37,
   "metadata": {},
   "outputs": [
    {
     "name": "stdout",
     "output_type": "stream",
     "text": [
      "[0]\teval-merror:0.44332\ttrain-merror:0.42769\n",
      "[1]\teval-merror:0.41885\ttrain-merror:0.39971\n",
      "[2]\teval-merror:0.40812\ttrain-merror:0.38207\n",
      "[3]\teval-merror:0.39737\ttrain-merror:0.37088\n",
      "[4]\teval-merror:0.38305\ttrain-merror:0.36040\n",
      "[5]\teval-merror:0.37232\ttrain-merror:0.35395\n",
      "[6]\teval-merror:0.36873\ttrain-merror:0.34993\n",
      "[7]\teval-merror:0.36695\ttrain-merror:0.34247\n",
      "[8]\teval-merror:0.36396\ttrain-merror:0.33659\n",
      "[9]\teval-merror:0.35919\ttrain-merror:0.33027\n",
      "[10]\teval-merror:0.35382\ttrain-merror:0.32726\n",
      "[11]\teval-merror:0.35859\ttrain-merror:0.32109\n",
      "[12]\teval-merror:0.35322\ttrain-merror:0.31478\n",
      "[13]\teval-merror:0.35024\ttrain-merror:0.30947\n",
      "[14]\teval-merror:0.35143\ttrain-merror:0.30617\n",
      "[15]\teval-merror:0.34069\ttrain-merror:0.30144\n",
      "[16]\teval-merror:0.33890\ttrain-merror:0.29727\n",
      "[17]\teval-merror:0.33771\ttrain-merror:0.29656\n",
      "[18]\teval-merror:0.33890\ttrain-merror:0.29369\n",
      "[19]\teval-merror:0.33771\ttrain-merror:0.29039\n",
      "[20]\teval-merror:0.33831\ttrain-merror:0.28651\n",
      "[21]\teval-merror:0.33771\ttrain-merror:0.28436\n",
      "[22]\teval-merror:0.33294\ttrain-merror:0.28092\n",
      "[23]\teval-merror:0.33115\ttrain-merror:0.27690\n",
      "[24]\teval-merror:0.32458\ttrain-merror:0.27489\n",
      "[25]\teval-merror:0.32339\ttrain-merror:0.27245\n",
      "[26]\teval-merror:0.32279\ttrain-merror:0.26930\n",
      "[27]\teval-merror:0.32160\ttrain-merror:0.26499\n",
      "[28]\teval-merror:0.31444\ttrain-merror:0.26155\n",
      "[29]\teval-merror:0.31444\ttrain-merror:0.25782\n",
      "[30]\teval-merror:0.31265\ttrain-merror:0.25438\n",
      "[31]\teval-merror:0.31325\ttrain-merror:0.25151\n",
      "[32]\teval-merror:0.31146\ttrain-merror:0.24849\n",
      "[33]\teval-merror:0.30609\ttrain-merror:0.24735\n",
      "[34]\teval-merror:0.30668\ttrain-merror:0.24433\n",
      "[35]\teval-merror:0.30251\ttrain-merror:0.24132\n",
      "[36]\teval-merror:0.30131\ttrain-merror:0.23845\n",
      "[37]\teval-merror:0.30310\ttrain-merror:0.23630\n",
      "[38]\teval-merror:0.30251\ttrain-merror:0.23372\n",
      "[39]\teval-merror:0.30191\ttrain-merror:0.23113\n",
      "[40]\teval-merror:0.30430\ttrain-merror:0.22755\n",
      "[41]\teval-merror:0.30012\ttrain-merror:0.22654\n",
      "[42]\teval-merror:0.29833\ttrain-merror:0.22310\n",
      "[43]\teval-merror:0.29773\ttrain-merror:0.21951\n",
      "[44]\teval-merror:0.29714\ttrain-merror:0.21822\n",
      "[45]\teval-merror:0.29415\ttrain-merror:0.21463\n",
      "[46]\teval-merror:0.29356\ttrain-merror:0.21234\n",
      "[47]\teval-merror:0.29356\ttrain-merror:0.21076\n",
      "[48]\teval-merror:0.29177\ttrain-merror:0.20660\n",
      "[49]\teval-merror:0.29296\ttrain-merror:0.20474\n",
      "[50]\teval-merror:0.29057\ttrain-merror:0.20258\n",
      "[51]\teval-merror:0.29117\ttrain-merror:0.20086\n",
      "[52]\teval-merror:0.28998\ttrain-merror:0.19785\n",
      "[53]\teval-merror:0.28938\ttrain-merror:0.19641\n",
      "[54]\teval-merror:0.28759\ttrain-merror:0.19541\n",
      "[55]\teval-merror:0.28819\ttrain-merror:0.19369\n",
      "[56]\teval-merror:0.28759\ttrain-merror:0.19125\n",
      "[57]\teval-merror:0.28580\ttrain-merror:0.18967\n",
      "[58]\teval-merror:0.28222\ttrain-merror:0.18766\n",
      "[59]\teval-merror:0.28103\ttrain-merror:0.18493\n",
      "[60]\teval-merror:0.28103\ttrain-merror:0.18350\n",
      "[61]\teval-merror:0.27864\ttrain-merror:0.18321\n",
      "[62]\teval-merror:0.27804\ttrain-merror:0.18077\n",
      "[63]\teval-merror:0.27864\ttrain-merror:0.17891\n",
      "[64]\teval-merror:0.27983\ttrain-merror:0.17762\n",
      "[65]\teval-merror:0.27983\ttrain-merror:0.17590\n",
      "[66]\teval-merror:0.27924\ttrain-merror:0.17360\n",
      "[67]\teval-merror:0.27983\ttrain-merror:0.17188\n",
      "[68]\teval-merror:0.27983\ttrain-merror:0.17016\n",
      "[69]\teval-merror:0.27804\ttrain-merror:0.16987\n",
      "[70]\teval-merror:0.27804\ttrain-merror:0.16987\n",
      "[71]\teval-merror:0.27745\ttrain-merror:0.16772\n",
      "[72]\teval-merror:0.27625\ttrain-merror:0.16628\n",
      "[73]\teval-merror:0.27446\ttrain-merror:0.16370\n",
      "[74]\teval-merror:0.27566\ttrain-merror:0.16255\n",
      "[75]\teval-merror:0.27446\ttrain-merror:0.16083\n",
      "[76]\teval-merror:0.27267\ttrain-merror:0.15954\n",
      "[77]\teval-merror:0.27088\ttrain-merror:0.15667\n",
      "[78]\teval-merror:0.27208\ttrain-merror:0.15552\n",
      "[79]\teval-merror:0.27208\ttrain-merror:0.15481\n",
      "[80]\teval-merror:0.27327\ttrain-merror:0.15380\n",
      "[81]\teval-merror:0.27327\ttrain-merror:0.15222\n",
      "[82]\teval-merror:0.27327\ttrain-merror:0.15122\n",
      "[83]\teval-merror:0.27267\ttrain-merror:0.14979\n",
      "[84]\teval-merror:0.27327\ttrain-merror:0.14878\n",
      "[85]\teval-merror:0.27208\ttrain-merror:0.14677\n",
      "[86]\teval-merror:0.27387\ttrain-merror:0.14519\n",
      "[87]\teval-merror:0.27566\ttrain-merror:0.14376\n",
      "[88]\teval-merror:0.27506\ttrain-merror:0.14247\n",
      "[89]\teval-merror:0.27387\ttrain-merror:0.14146\n",
      "[90]\teval-merror:0.27327\ttrain-merror:0.14103\n",
      "[91]\teval-merror:0.27327\ttrain-merror:0.13974\n",
      "[92]\teval-merror:0.27446\ttrain-merror:0.13974\n",
      "[93]\teval-merror:0.27387\ttrain-merror:0.13831\n",
      "[94]\teval-merror:0.27088\ttrain-merror:0.13673\n",
      "[95]\teval-merror:0.27387\ttrain-merror:0.13501\n",
      "[96]\teval-merror:0.27267\ttrain-merror:0.13314\n",
      "[97]\teval-merror:0.27267\ttrain-merror:0.13300\n",
      "[98]\teval-merror:0.27267\ttrain-merror:0.13128\n",
      "[99]\teval-merror:0.27267\ttrain-merror:0.12999\n",
      "[100]\teval-merror:0.27148\ttrain-merror:0.12941\n",
      "[101]\teval-merror:0.27148\ttrain-merror:0.12812\n",
      "[102]\teval-merror:0.27088\ttrain-merror:0.12654\n",
      "[103]\teval-merror:0.27267\ttrain-merror:0.12654\n",
      "[104]\teval-merror:0.27148\ttrain-merror:0.12540\n",
      "[105]\teval-merror:0.26969\ttrain-merror:0.12382\n",
      "[106]\teval-merror:0.26850\ttrain-merror:0.12267\n",
      "[107]\teval-merror:0.26730\ttrain-merror:0.12138\n",
      "[108]\teval-merror:0.26730\ttrain-merror:0.11951\n",
      "[109]\teval-merror:0.26850\ttrain-merror:0.11822\n",
      "[110]\teval-merror:0.26432\ttrain-merror:0.11765\n",
      "[111]\teval-merror:0.26253\ttrain-merror:0.11679\n",
      "[112]\teval-merror:0.26313\ttrain-merror:0.11564\n",
      "[113]\teval-merror:0.26432\ttrain-merror:0.11564\n",
      "[114]\teval-merror:0.26492\ttrain-merror:0.11478\n",
      "[115]\teval-merror:0.26671\ttrain-merror:0.11420\n",
      "[116]\teval-merror:0.26551\ttrain-merror:0.11392\n",
      "[117]\teval-merror:0.26611\ttrain-merror:0.11306\n",
      "[118]\teval-merror:0.26551\ttrain-merror:0.11205\n",
      "[119]\teval-merror:0.26551\ttrain-merror:0.11105\n",
      "[120]\teval-merror:0.26372\ttrain-merror:0.10961\n",
      "[121]\teval-merror:0.26253\ttrain-merror:0.10875\n",
      "[122]\teval-merror:0.26313\ttrain-merror:0.10789\n",
      "[123]\teval-merror:0.26551\ttrain-merror:0.10732\n",
      "[124]\teval-merror:0.26551\ttrain-merror:0.10717\n",
      "[125]\teval-merror:0.26313\ttrain-merror:0.10516\n",
      "[126]\teval-merror:0.26372\ttrain-merror:0.10344\n",
      "[127]\teval-merror:0.26253\ttrain-merror:0.10186\n",
      "[128]\teval-merror:0.26074\ttrain-merror:0.10000\n",
      "[129]\teval-merror:0.26193\ttrain-merror:0.09871\n",
      "[130]\teval-merror:0.26134\ttrain-merror:0.09785\n",
      "[131]\teval-merror:0.26193\ttrain-merror:0.09727\n",
      "[132]\teval-merror:0.26134\ttrain-merror:0.09613\n",
      "[133]\teval-merror:0.25895\ttrain-merror:0.09555\n",
      "[134]\teval-merror:0.26014\ttrain-merror:0.09512\n",
      "[135]\teval-merror:0.25895\ttrain-merror:0.09383\n",
      "[136]\teval-merror:0.25895\ttrain-merror:0.09297\n",
      "[137]\teval-merror:0.25895\ttrain-merror:0.09283\n",
      "[138]\teval-merror:0.25955\ttrain-merror:0.09197\n",
      "[139]\teval-merror:0.25895\ttrain-merror:0.09067\n",
      "[140]\teval-merror:0.25895\ttrain-merror:0.08924\n",
      "[141]\teval-merror:0.26014\ttrain-merror:0.08737\n",
      "[142]\teval-merror:0.25955\ttrain-merror:0.08680\n",
      "[143]\teval-merror:0.26014\ttrain-merror:0.08666\n",
      "[144]\teval-merror:0.25895\ttrain-merror:0.08651\n",
      "[145]\teval-merror:0.25656\ttrain-merror:0.08580\n",
      "[146]\teval-merror:0.25716\ttrain-merror:0.08565\n",
      "[147]\teval-merror:0.25716\ttrain-merror:0.08508\n",
      "[148]\teval-merror:0.25537\ttrain-merror:0.08479\n",
      "[149]\teval-merror:0.25537\ttrain-merror:0.08350\n",
      "[150]\teval-merror:0.25597\ttrain-merror:0.08336\n",
      "[151]\teval-merror:0.25597\ttrain-merror:0.08250\n",
      "[152]\teval-merror:0.25418\ttrain-merror:0.08207\n",
      "[153]\teval-merror:0.25477\ttrain-merror:0.08120\n",
      "[154]\teval-merror:0.25656\ttrain-merror:0.08092\n",
      "[155]\teval-merror:0.25358\ttrain-merror:0.08049\n",
      "[156]\teval-merror:0.25537\ttrain-merror:0.07977\n",
      "[157]\teval-merror:0.25656\ttrain-merror:0.07891\n",
      "[158]\teval-merror:0.25776\ttrain-merror:0.07848\n",
      "[159]\teval-merror:0.25656\ttrain-merror:0.07776\n",
      "[160]\teval-merror:0.25477\ttrain-merror:0.07776\n",
      "[161]\teval-merror:0.25597\ttrain-merror:0.07676\n",
      "[162]\teval-merror:0.25477\ttrain-merror:0.07575\n",
      "[163]\teval-merror:0.25358\ttrain-merror:0.07446\n",
      "[164]\teval-merror:0.25179\ttrain-merror:0.07360\n",
      "[165]\teval-merror:0.25239\ttrain-merror:0.07317\n",
      "[166]\teval-merror:0.25179\ttrain-merror:0.07274\n",
      "[167]\teval-merror:0.25179\ttrain-merror:0.07202\n",
      "[168]\teval-merror:0.25239\ttrain-merror:0.07174\n",
      "[169]\teval-merror:0.25179\ttrain-merror:0.07059\n",
      "[170]\teval-merror:0.25119\ttrain-merror:0.07044\n",
      "[171]\teval-merror:0.25119\ttrain-merror:0.06930\n",
      "[172]\teval-merror:0.25000\ttrain-merror:0.06872\n",
      "[173]\teval-merror:0.24821\ttrain-merror:0.06743\n",
      "[174]\teval-merror:0.24702\ttrain-merror:0.06729\n",
      "[175]\teval-merror:0.24702\ttrain-merror:0.06700\n",
      "[176]\teval-merror:0.24821\ttrain-merror:0.06686\n"
     ]
    },
    {
     "name": "stdout",
     "output_type": "stream",
     "text": [
      "[177]\teval-merror:0.24821\ttrain-merror:0.06600\n",
      "[178]\teval-merror:0.24881\ttrain-merror:0.06600\n",
      "[179]\teval-merror:0.24940\ttrain-merror:0.06614\n",
      "[180]\teval-merror:0.25000\ttrain-merror:0.06600\n",
      "[181]\teval-merror:0.25060\ttrain-merror:0.06542\n",
      "[182]\teval-merror:0.25060\ttrain-merror:0.06499\n",
      "[183]\teval-merror:0.25060\ttrain-merror:0.06471\n",
      "[184]\teval-merror:0.24940\ttrain-merror:0.06413\n",
      "[185]\teval-merror:0.25060\ttrain-merror:0.06399\n",
      "[186]\teval-merror:0.24940\ttrain-merror:0.06399\n",
      "[187]\teval-merror:0.24702\ttrain-merror:0.06327\n",
      "[188]\teval-merror:0.24702\ttrain-merror:0.06270\n",
      "[189]\teval-merror:0.24702\ttrain-merror:0.06255\n",
      "[190]\teval-merror:0.24582\ttrain-merror:0.06227\n",
      "[191]\teval-merror:0.24642\ttrain-merror:0.06198\n",
      "[192]\teval-merror:0.24403\ttrain-merror:0.06169\n",
      "[193]\teval-merror:0.24523\ttrain-merror:0.06083\n",
      "[194]\teval-merror:0.24403\ttrain-merror:0.06069\n",
      "[195]\teval-merror:0.24344\ttrain-merror:0.05940\n",
      "[196]\teval-merror:0.24344\ttrain-merror:0.05954\n",
      "[197]\teval-merror:0.24224\ttrain-merror:0.05911\n",
      "[198]\teval-merror:0.24165\ttrain-merror:0.05868\n",
      "[199]\teval-merror:0.24344\ttrain-merror:0.05882\n",
      "[200]\teval-merror:0.24523\ttrain-merror:0.05868\n",
      "[201]\teval-merror:0.24463\ttrain-merror:0.05811\n",
      "[202]\teval-merror:0.24344\ttrain-merror:0.05782\n",
      "[203]\teval-merror:0.24344\ttrain-merror:0.05768\n",
      "[204]\teval-merror:0.24165\ttrain-merror:0.05724\n",
      "[205]\teval-merror:0.24165\ttrain-merror:0.05696\n",
      "[206]\teval-merror:0.24165\ttrain-merror:0.05667\n",
      "[207]\teval-merror:0.24284\ttrain-merror:0.05610\n",
      "[208]\teval-merror:0.24403\ttrain-merror:0.05595\n",
      "[209]\teval-merror:0.24344\ttrain-merror:0.05624\n",
      "[210]\teval-merror:0.24463\ttrain-merror:0.05567\n",
      "[211]\teval-merror:0.24344\ttrain-merror:0.05552\n",
      "[212]\teval-merror:0.24224\ttrain-merror:0.05538\n",
      "[213]\teval-merror:0.24224\ttrain-merror:0.05509\n",
      "[214]\teval-merror:0.24105\ttrain-merror:0.05423\n",
      "[215]\teval-merror:0.24105\ttrain-merror:0.05323\n",
      "[216]\teval-merror:0.24344\ttrain-merror:0.05309\n",
      "[217]\teval-merror:0.24463\ttrain-merror:0.05294\n",
      "[218]\teval-merror:0.24224\ttrain-merror:0.05265\n",
      "[219]\teval-merror:0.24105\ttrain-merror:0.05251\n",
      "[220]\teval-merror:0.23926\ttrain-merror:0.05179\n",
      "[221]\teval-merror:0.23986\ttrain-merror:0.05093\n",
      "[222]\teval-merror:0.24045\ttrain-merror:0.05022\n",
      "[223]\teval-merror:0.24165\ttrain-merror:0.04993\n",
      "[224]\teval-merror:0.23926\ttrain-merror:0.04964\n",
      "[225]\teval-merror:0.23807\ttrain-merror:0.04950\n",
      "[226]\teval-merror:0.23926\ttrain-merror:0.04950\n",
      "[227]\teval-merror:0.23926\ttrain-merror:0.04935\n",
      "[228]\teval-merror:0.23866\ttrain-merror:0.04907\n",
      "[229]\teval-merror:0.23866\ttrain-merror:0.04821\n",
      "[230]\teval-merror:0.23866\ttrain-merror:0.04792\n",
      "[231]\teval-merror:0.23926\ttrain-merror:0.04821\n",
      "[232]\teval-merror:0.23866\ttrain-merror:0.04778\n",
      "[233]\teval-merror:0.23866\ttrain-merror:0.04735\n",
      "[234]\teval-merror:0.23926\ttrain-merror:0.04706\n",
      "[235]\teval-merror:0.23807\ttrain-merror:0.04648\n",
      "[236]\teval-merror:0.23568\ttrain-merror:0.04548\n",
      "[237]\teval-merror:0.23568\ttrain-merror:0.04548\n",
      "[238]\teval-merror:0.23807\ttrain-merror:0.04519\n",
      "[239]\teval-merror:0.23747\ttrain-merror:0.04505\n",
      "[240]\teval-merror:0.23866\ttrain-merror:0.04448\n",
      "[241]\teval-merror:0.23807\ttrain-merror:0.04433\n",
      "[242]\teval-merror:0.23807\ttrain-merror:0.04462\n",
      "[243]\teval-merror:0.23687\ttrain-merror:0.04433\n",
      "[244]\teval-merror:0.23807\ttrain-merror:0.04390\n",
      "[245]\teval-merror:0.23747\ttrain-merror:0.04362\n",
      "[246]\teval-merror:0.23687\ttrain-merror:0.04319\n",
      "[247]\teval-merror:0.23508\ttrain-merror:0.04276\n",
      "[248]\teval-merror:0.23389\ttrain-merror:0.04276\n",
      "[249]\teval-merror:0.23210\ttrain-merror:0.04232\n",
      "[250]\teval-merror:0.23270\ttrain-merror:0.04218\n",
      "[251]\teval-merror:0.23389\ttrain-merror:0.04146\n",
      "[252]\teval-merror:0.23270\ttrain-merror:0.04103\n",
      "[253]\teval-merror:0.23329\ttrain-merror:0.04089\n",
      "[254]\teval-merror:0.23270\ttrain-merror:0.04017\n",
      "[255]\teval-merror:0.23210\ttrain-merror:0.04046\n",
      "[256]\teval-merror:0.23329\ttrain-merror:0.03988\n",
      "[257]\teval-merror:0.23270\ttrain-merror:0.03888\n",
      "[258]\teval-merror:0.23270\ttrain-merror:0.03888\n",
      "[259]\teval-merror:0.23329\ttrain-merror:0.03888\n",
      "[260]\teval-merror:0.23270\ttrain-merror:0.03874\n",
      "[261]\teval-merror:0.23389\ttrain-merror:0.03888\n",
      "[262]\teval-merror:0.23568\ttrain-merror:0.03859\n",
      "[263]\teval-merror:0.23508\ttrain-merror:0.03816\n",
      "[264]\teval-merror:0.23508\ttrain-merror:0.03816\n",
      "[265]\teval-merror:0.23389\ttrain-merror:0.03773\n",
      "[266]\teval-merror:0.23270\ttrain-merror:0.03702\n",
      "[267]\teval-merror:0.23389\ttrain-merror:0.03687\n",
      "[268]\teval-merror:0.23329\ttrain-merror:0.03702\n",
      "[269]\teval-merror:0.23210\ttrain-merror:0.03644\n",
      "[270]\teval-merror:0.23210\ttrain-merror:0.03644\n",
      "[271]\teval-merror:0.23091\ttrain-merror:0.03587\n",
      "[272]\teval-merror:0.23091\ttrain-merror:0.03601\n",
      "[273]\teval-merror:0.23031\ttrain-merror:0.03558\n",
      "[274]\teval-merror:0.23150\ttrain-merror:0.03558\n",
      "[275]\teval-merror:0.23091\ttrain-merror:0.03544\n",
      "[276]\teval-merror:0.23091\ttrain-merror:0.03486\n",
      "[277]\teval-merror:0.22971\ttrain-merror:0.03472\n",
      "[278]\teval-merror:0.22852\ttrain-merror:0.03443\n",
      "[279]\teval-merror:0.23091\ttrain-merror:0.03415\n",
      "[280]\teval-merror:0.22912\ttrain-merror:0.03415\n",
      "[281]\teval-merror:0.23031\ttrain-merror:0.03372\n",
      "[282]\teval-merror:0.23031\ttrain-merror:0.03343\n",
      "[283]\teval-merror:0.23091\ttrain-merror:0.03300\n",
      "[284]\teval-merror:0.22971\ttrain-merror:0.03271\n",
      "[285]\teval-merror:0.23031\ttrain-merror:0.03257\n",
      "[286]\teval-merror:0.22852\ttrain-merror:0.03243\n",
      "[287]\teval-merror:0.22852\ttrain-merror:0.03228\n",
      "[288]\teval-merror:0.22852\ttrain-merror:0.03228\n",
      "[289]\teval-merror:0.22792\ttrain-merror:0.03171\n",
      "[290]\teval-merror:0.22852\ttrain-merror:0.03142\n",
      "[291]\teval-merror:0.22912\ttrain-merror:0.03171\n",
      "[292]\teval-merror:0.23031\ttrain-merror:0.03113\n",
      "[293]\teval-merror:0.22733\ttrain-merror:0.03085\n",
      "[294]\teval-merror:0.22852\ttrain-merror:0.03070\n",
      "[295]\teval-merror:0.22792\ttrain-merror:0.03056\n",
      "[296]\teval-merror:0.22792\ttrain-merror:0.03056\n",
      "[297]\teval-merror:0.22792\ttrain-merror:0.02999\n",
      "[298]\teval-merror:0.22852\ttrain-merror:0.02970\n",
      "[299]\teval-merror:0.22792\ttrain-merror:0.02927\n"
     ]
    },
    {
     "data": {
      "image/png": "[encoded data removed]",
      "text/plain": [
       "<Figure size 432x288 with 1 Axes>"
      ]
     },
     "metadata": {
      "needs_background": "light"
     },
     "output_type": "display_data"
    }
   ],
   "source": [
    "num_round = 300\n",
    "train_stats={}\n",
    "params = {\n",
    "    \"booster\":'gbtree',\n",
    "    \"max_depth\": 3,\n",
    "    \"eta\": 0.1,\n",
    "    \"objective\":\"multi:softmax\",\n",
    "    \"num_class\":len(train['category'].unique())\n",
    "}\n",
    "bst = xgboost.train(params, dtrain, num_round, evallist, evals_result=train_stats)\n",
    "plotResults(train_stats)"
   ]
  },
  {
   "cell_type": "code",
   "execution_count": 56,
   "metadata": {},
   "outputs": [
    {
     "data": {
      "image/png": "[encoded data removed]",
      "text/plain": [
       "<Figure size 432x288 with 1 Axes>"
      ]
     },
     "metadata": {
      "needs_background": "light"
     },
     "output_type": "display_data"
    }
   ],
   "source": [
    "plotResults(train_stats)"
   ]
  },
  {
   "cell_type": "markdown",
   "metadata": {},
   "source": [
    "With 300 iterations and a learning rate of 0.1, we notice that the training error is minimal and the evaluation error plateaus around 0.23. This is probably as good as it gets with the current features."
   ]
  },
  {
   "cell_type": "markdown",
   "metadata": {},
   "source": [
    "### Gradient Boosted Trees - Evaluation"
   ]
  },
  {
   "cell_type": "markdown",
   "metadata": {},
   "source": [
    "Let's check the performance of the final gradient boosted tree model against our evaluation metrics."
   ]
  },
  {
   "cell_type": "code",
   "execution_count": 43,
   "metadata": {},
   "outputs": [],
   "source": [
    "pred = bst.predict(dval)"
   ]
  },
  {
   "cell_type": "code",
   "execution_count": 44,
   "metadata": {},
   "outputs": [
    {
     "data": {
      "text/plain": [
       "0.7720763723150358"
      ]
     },
     "execution_count": 44,
     "metadata": {},
     "output_type": "execute_result"
    }
   ],
   "source": [
    "accuracy_score(y_val_xg, pred)"
   ]
  },
  {
   "cell_type": "code",
   "execution_count": 39,
   "metadata": {},
   "outputs": [
    {
     "data": {
      "text/plain": [
       "array([[ 62,   1,   7,   3,   1,   2,   2,   1,   0,   1,   0,   2],\n",
       "       [  0,  68,   2,   9,   2,   4,   4,   5,   1,   0,   2,   3],\n",
       "       [  3,   2, 104,  13,  11,   1,   1,   0,   0,   1,   4,   2],\n",
       "       [  1,   5,   9, 227,   5,   3,   2,   1,   0,   2,  15,   1],\n",
       "       [  3,   0,  13,   9, 128,   1,   2,   0,   5,   1,   5,   1],\n",
       "       [  0,   3,   1,   5,   0,  79,   3,   0,   1,   6,   0,   1],\n",
       "       [  2,   2,   0,  14,   6,   3,  87,   2,   7,   2,   2,   3],\n",
       "       [  0,   9,   2,   9,   0,   6,   4,  36,   0,   5,   0,   0],\n",
       "       [  1,   1,   0,   4,   4,   1,   9,   0,  70,   3,   2,   0],\n",
       "       [  0,   1,   3,   5,   2,   0,   8,   3,   0, 183,   0,   0],\n",
       "       [  0,   3,   2,  16,   1,   0,   8,   1,   4,   1, 169,   0],\n",
       "       [  0,   0,   3,  17,   2,   0,   1,   1,   0,   2,   1,  81]])"
      ]
     },
     "execution_count": 39,
     "metadata": {},
     "output_type": "execute_result"
    }
   ],
   "source": [
    "confusion_matrix(y_val_xg, pred)"
   ]
  },
  {
   "cell_type": "code",
   "execution_count": 41,
   "metadata": {},
   "outputs": [
    {
     "data": {
      "text/plain": [
       "0.7715005669535813"
      ]
     },
     "execution_count": 41,
     "metadata": {},
     "output_type": "execute_result"
    }
   ],
   "source": [
    "f1_score(y_val_xg, pred, average='weighted')"
   ]
  },
  {
   "cell_type": "markdown",
   "metadata": {},
   "source": [
    "Xgboost performs better than the KNN model by around 15% in both accuracy and weighted F-1 score. Even if it seems logical to pick the gradient boosted tree model for future classification tasks, in practice it might make sense to trade accuracy for the increased transparency, explainability, and ease of deployment of the simpler model."
   ]
  }
 ],
 "metadata": {
  "kernelspec": {
   "display_name": "Python 3",
   "language": "python",
   "name": "python3"
  },
  "language_info": {
   "codemirror_mode": {
    "name": "ipython",
    "version": 3
   },
   "file_extension": ".py",
   "mimetype": "text/x-python",
   "name": "python",
   "nbconvert_exporter": "python",
   "pygments_lexer": "ipython3",
   "version": "3.7.9"
  }
 },
 "nbformat": 4,
 "nbformat_minor": 4
}
